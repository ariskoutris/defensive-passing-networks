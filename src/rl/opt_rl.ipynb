{
 "cells": [
  {
   "cell_type": "code",
   "execution_count": 5,
   "metadata": {},
   "outputs": [
    {
     "name": "stdout",
     "output_type": "stream",
     "text": [
      "/home/aoezkan/eth/dslab/dsl-hs-2024/src\n",
      "networks.py      pass_tables.py         resp.py                utils.py\n",
      "\u001b[0m\u001b[01;34mnotebooks\u001b[0m/       \u001b[01;34m__pycache__\u001b[0m/           \u001b[01;34mrl\u001b[0m/\n",
      "pass_options.py  \u001b[01;32mresponsibility.ipynb\u001b[0m*  skillcorner_parser.py\n"
     ]
    }
   ],
   "source": [
    "%cd ..\n",
    "%ls\n",
    "\n"
   ]
  },
  {
   "cell_type": "code",
   "execution_count": 9,
   "metadata": {},
   "outputs": [],
   "source": [
    "\n",
    "import gym\n",
    "# plot xt_table\n",
    "import matplotlib.pyplot as plt\n",
    "import seaborn as sns\n",
    "import numpy as np\n",
    "\n"
   ]
  },
  {
   "cell_type": "code",
   "execution_count": null,
   "metadata": {},
   "outputs": [
    {
     "data": {
      "text/plain": [
       "<TimeLimit<OrderEnforcing<PassiveEnvChecker<LunarLander<LunarLander-v2>>>>>"
      ]
     },
     "execution_count": 2,
     "metadata": {},
     "output_type": "execute_result"
    }
   ],
   "source": [
    "\n",
    "env = gym.make(\"LunarLander-v2\")  # A popular Box2D environment\n",
    "print(env)\n"
   ]
  },
  {
   "cell_type": "code",
   "execution_count": null,
   "metadata": {},
   "outputs": [],
   "source": []
  },
  {
   "cell_type": "code",
   "execution_count": 4,
   "metadata": {},
   "outputs": [],
   "source": [
    "\n",
    "# Reset the environment to generate the first observation\n",
    "observation, info = env.reset(seed=42)\n",
    "for _ in range(100000):\n",
    "    # this is where you would insert your policy\n",
    "    action = env.action_space.sample()\n",
    "\n",
    "    # step (transition) through the environment with the action\n",
    "    # receiving the next observation, reward and if the episode has terminated or truncated\n",
    "    observation, reward, terminated, truncated, info = env.step(action)\n",
    "\n",
    "    # If the episode has ended then we can reset to start a new episode\n",
    "    if terminated or truncated:\n",
    "        observation, info = env.reset()\n",
    "\n",
    "env.close()"
   ]
  },
  {
   "cell_type": "code",
   "execution_count": null,
   "metadata": {},
   "outputs": [],
   "source": []
  },
  {
   "cell_type": "code",
   "execution_count": 12,
   "metadata": {},
   "outputs": [
    {
     "name": "stdout",
     "output_type": "stream",
     "text": [
      "105 68 68 105 1.0 1.0\n"
     ]
    }
   ],
   "source": [
    "from pass_options import attacker_options\n",
    "import pandas as pd\n",
    "\n",
    "\n",
    "WYSCOUT_ID = 5414111\n",
    "SKILLCORNER_ID = 952209\n",
    "\n",
    "\n",
    "DATA_PATH = f'../data/networks/match_{SKILLCORNER_ID}/'\n",
    "PASSES_DF_PATH = DATA_PATH + 'passes_df.csv'\n",
    "\n",
    "DATA_PATH_PASSES = f'../data/'\n",
    "XT_PLOT_PATH = DATA_PATH_PASSES + 'smoothed_xt.csv'\n",
    "\n",
    "\n",
    "passes_df = pd.read_csv(PASSES_DF_PATH)\n",
    "\n",
    "\n",
    "# load xt table\n",
    "xt_table = pd.read_csv(XT_PLOT_PATH)\n",
    "\n",
    "cell_width = 100 / xt_table.shape[1]\n",
    "cell_height = 100 / xt_table.shape[0]\n",
    "\n",
    "# prepare with pitch_dict, outside the function\n",
    "pitch_length = 105\n",
    "pitch_width = 68\n",
    "xt_rows, xt_cols = 68, 105\n",
    "cell_width = pitch_length / xt_cols\n",
    "cell_height = pitch_width / xt_rows\n",
    "\n",
    "pitch_dict = {\n",
    "    'pitch_length': pitch_length,\n",
    "    'pitch_width': pitch_width,\n",
    "    'xt_rows': xt_rows,\n",
    "    'xt_cols': xt_cols,\n",
    "    'cell_width': cell_width,\n",
    "    'cell_height': cell_height,\n",
    "    'xt_table': xt_table\n",
    "}\n",
    "\n",
    "print(pitch_dict['pitch_length'], pitch_dict['pitch_width'], pitch_dict['xt_rows'], pitch_dict['xt_cols'], pitch_dict['cell_width'], pitch_dict['cell_height'])"
   ]
  },
  {
   "cell_type": "code",
   "execution_count": 17,
   "metadata": {},
   "outputs": [
    {
     "name": "stdout",
     "output_type": "stream",
     "text": [
      "52.5 34.0\n",
      "49.75 -49.75\n",
      "33.27157894736842 -31.814736842105265\n"
     ]
    }
   ],
   "source": [
    "print(pitch_dict['pitch_length']/2, pitch_dict['pitch_width']/2)\n",
    "\n",
    "print(passes_df['location.x'].max(), passes_df['location.x'].min())\n",
    "print(passes_df['location.y'].max(), passes_df['location.y'].min())"
   ]
  },
  {
   "cell_type": "code",
   "execution_count": 23,
   "metadata": {},
   "outputs": [
    {
     "name": "stdout",
     "output_type": "stream",
     "text": [
      "893\n"
     ]
    },
    {
     "data": {
      "text/plain": [
       "16935"
      ]
     },
     "execution_count": 23,
     "metadata": {},
     "output_type": "execute_result"
    }
   ],
   "source": [
    "frame_ids = passes_df['frame'].unique()\n",
    "\n",
    "print(len(frame_ids))\n",
    "\n",
    "# sample randomly frame from the frame_ids\n",
    "np.random.choice(frame_ids)"
   ]
  },
  {
   "cell_type": "code",
   "execution_count": 25,
   "metadata": {},
   "outputs": [
    {
     "data": {
      "text/plain": [
       "array([[ 4.0296807, 16.878597 ],\n",
       "       [ 2.7674162,  2.7490032],\n",
       "       [ 2.1063533,  1.0191805]], dtype=float32)"
      ]
     },
     "execution_count": 25,
     "metadata": {},
     "output_type": "execute_result"
    }
   ],
   "source": [
    "np.random.uniform(\n",
    "            low=[0, 0], high=[10,20], size=(3, 2)\n",
    "        ).astype(np.float32)"
   ]
  },
  {
   "cell_type": "code",
   "execution_count": null,
   "metadata": {},
   "outputs": [],
   "source": []
  }
 ],
 "metadata": {
  "kernelspec": {
   "display_name": "socc",
   "language": "python",
   "name": "python3"
  },
  "language_info": {
   "codemirror_mode": {
    "name": "ipython",
    "version": 3
   },
   "file_extension": ".py",
   "mimetype": "text/x-python",
   "name": "python",
   "nbconvert_exporter": "python",
   "pygments_lexer": "ipython3",
   "version": "3.8.20"
  }
 },
 "nbformat": 4,
 "nbformat_minor": 2
}
