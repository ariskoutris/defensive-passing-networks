{
 "cells": [
  {
   "cell_type": "code",
   "execution_count": 6,
   "metadata": {},
   "outputs": [
    {
     "ename": "ImportError",
     "evalue": "attempted relative import with no known parent package",
     "output_type": "error",
     "traceback": [
      "\u001b[0;31m---------------------------------------------------------------------------\u001b[0m",
      "\u001b[0;31mImportError\u001b[0m                               Traceback (most recent call last)",
      "Cell \u001b[0;32mIn[6], line 3\u001b[0m\n\u001b[1;32m      1\u001b[0m \u001b[38;5;28;01mimport\u001b[39;00m \u001b[38;5;21;01mpandas\u001b[39;00m \u001b[38;5;28;01mas\u001b[39;00m \u001b[38;5;21;01mpd\u001b[39;00m\n\u001b[1;32m      2\u001b[0m \u001b[38;5;28;01mimport\u001b[39;00m \u001b[38;5;21;01mnumpy\u001b[39;00m \u001b[38;5;28;01mas\u001b[39;00m \u001b[38;5;21;01mnp\u001b[39;00m\n\u001b[0;32m----> 3\u001b[0m \u001b[38;5;28;01mfrom\u001b[39;00m \u001b[38;5;21;01m.\u001b[39;00m\u001b[38;5;21;01mutils\u001b[39;00m \u001b[38;5;28;01mimport\u001b[39;00m \u001b[38;5;241m*\u001b[39m\n\u001b[1;32m      5\u001b[0m pd\u001b[38;5;241m.\u001b[39mset_option(\u001b[38;5;124m'\u001b[39m\u001b[38;5;124mdisplay.max_columns\u001b[39m\u001b[38;5;124m'\u001b[39m, \u001b[38;5;28;01mNone\u001b[39;00m)\n",
      "\u001b[0;31mImportError\u001b[0m: attempted relative import with no known parent package"
     ]
    }
   ],
   "source": [
    "import pandas as pd\n",
    "import numpy as np\n",
    "from .utils import *\n",
    "\n",
    "pd.set_option('display.max_columns', None)"
   ]
  },
  {
   "cell_type": "code",
   "execution_count": 2,
   "metadata": {},
   "outputs": [],
   "source": [
    "DATA_PATH = '../data/'\n",
    "PASSES_DF_PATH = DATA_PATH + 'passes_df.pkl'\n",
    "WYSCOUT_TO_SKILLCORNER = DATA_PATH + 'wyscout2skillcorner.csv'"
   ]
  },
  {
   "cell_type": "code",
   "execution_count": 3,
   "metadata": {},
   "outputs": [],
   "source": [
    "passes_df = pd.read_pickle(PASSES_DF_PATH)\n",
    "wyscout2skillcorner = pd.read_csv(WYSCOUT_TO_SKILLCORNER).drop(columns='id')"
   ]
  },
  {
   "cell_type": "code",
   "execution_count": 4,
   "metadata": {},
   "outputs": [],
   "source": [
    "passes_df['responsibility'] = passes_df.apply(responsibility, axis=1, pass_length_factor = 1)"
   ]
  },
  {
   "cell_type": "markdown",
   "metadata": {},
   "source": [
    "REORDER THESE 2"
   ]
  },
  {
   "cell_type": "code",
   "execution_count": 6,
   "metadata": {},
   "outputs": [],
   "source": [
    "# First, merge id_map with joined_df on player.id (WyScout player IDs) to get the team_name_sk for player_skillcorner_id\n",
    "passes_df = passes_df.merge(wyscout2skillcorner[['player_id_wy', 'player_id_sk', 'team_name_sk']],\n",
    "                            left_on='player.id', \n",
    "                            right_on='player_id_wy', \n",
    "                            how='left')\n",
    "\n",
    "# Rename the columns for clarity\n",
    "passes_df.rename(columns={'player_id_sk': 'player_skillcorner_id', 'team_name_sk': 'team_name_skillcorner'}, inplace=True)\n",
    "\n",
    "# Now merge id_map with object_id (which is SkillCorner ID) to get the team_name_sk for object_id\n",
    "passes_df = passes_df.merge(wyscout2skillcorner[['player_id_sk', 'team_name_sk']],\n",
    "                            left_on='tracking.object_id', \n",
    "                            right_on='player_id_sk', \n",
    "                            how='left')\n",
    "\n",
    "# Rename the columns for clarity\n",
    "passes_df.rename(columns={'team_name_sk': 'team_name_object'}, inplace=True) \n",
    "\n",
    "# Finally, create a new column to check if both players are on the same team\n",
    "passes_df['same_team'] = passes_df['team_name_skillcorner'] == passes_df['team_name_object']\n",
    "\n",
    "# You can drop any unnecessary columns if needed\n",
    "passes_df.drop(columns=['player_id_wy', 'player_id_sk'], inplace=True)"
   ]
  },
  {
   "cell_type": "code",
   "execution_count": 7,
   "metadata": {},
   "outputs": [],
   "source": [
    "passes_df['responsibility'] = np.where(passes_df['same_team'], 0, passes_df['responsibility'])"
   ]
  },
  {
   "cell_type": "code",
   "execution_count": null,
   "metadata": {},
   "outputs": [],
   "source": []
  }
 ],
 "metadata": {
  "kernelspec": {
   "display_name": "fball-analytics",
   "language": "python",
   "name": "python3"
  },
  "language_info": {
   "codemirror_mode": {
    "name": "ipython",
    "version": 3
   },
   "file_extension": ".py",
   "mimetype": "text/x-python",
   "name": "python",
   "nbconvert_exporter": "python",
   "pygments_lexer": "ipython3",
   "version": "3.10.15"
  }
 },
 "nbformat": 4,
 "nbformat_minor": 2
}
