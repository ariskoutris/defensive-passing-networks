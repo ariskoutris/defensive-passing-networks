{
 "cells": [
  {
   "cell_type": "code",
   "execution_count": 1,
   "metadata": {},
   "outputs": [],
   "source": [
    "import pandas as pd\n",
    "import numpy as np\n",
    "\n",
    "import sys\n",
    "sys.path.append('../')\n",
    "from utils import *\n",
    "\n",
    "pd.set_option('display.max_columns', None)"
   ]
  },
  {
   "cell_type": "code",
   "execution_count": 2,
   "metadata": {},
   "outputs": [],
   "source": [
    "DATA_PATH = '../../data/'\n",
    "PASSES_DF_PATH = DATA_PATH + 'passes_df.pkl'\n",
    "WYSCOUT_TO_SKILLCORNER = DATA_PATH + 'wyscout2skillcorner.csv'"
   ]
  },
  {
   "cell_type": "code",
   "execution_count": 3,
   "metadata": {},
   "outputs": [],
   "source": [
    "passes_df = pd.read_pickle(PASSES_DF_PATH)\n",
    "wyscout2skillcorner = pd.read_csv(WYSCOUT_TO_SKILLCORNER).drop(columns='id')"
   ]
  },
  {
   "cell_type": "code",
   "execution_count": 4,
   "metadata": {},
   "outputs": [],
   "source": [
    "passes_df.rename(columns={'player.id': 'player.id.wyscout', 'pass.recipient.id': 'pass.recipient.id.wyscout', 'tracking.player_id': 'tracking.player.id.skillcorner'}, inplace=True)\n",
    "passes_df.drop(columns=['team.id', 'opponentTeam.id'], inplace=True)"
   ]
  },
  {
   "cell_type": "code",
   "execution_count": 5,
   "metadata": {},
   "outputs": [],
   "source": [
    "# An id value of 0 doesn't map to any player. Look into it.\n",
    "passes_df = passes_df[passes_df['pass.recipient.id.wyscout'] != 0]"
   ]
  },
  {
   "cell_type": "code",
   "execution_count": 6,
   "metadata": {},
   "outputs": [],
   "source": [
    "passes_df = passes_df.merge(wyscout2skillcorner[['player_id_wy', 'player_id_sk']],\n",
    "                            left_on='player.id.wyscout', \n",
    "                            right_on='player_id_wy', \n",
    "                            how='left')\n",
    "\n",
    "passes_df = passes_df.merge(wyscout2skillcorner[['player_id_wy', 'player_id_sk']],\n",
    "                            left_on='pass.recipient.id.wyscout', \n",
    "                            right_on='player_id_wy', \n",
    "                            how='left')"
   ]
  },
  {
   "cell_type": "code",
   "execution_count": 7,
   "metadata": {},
   "outputs": [],
   "source": [
    "passes_df.rename(columns={'player_id_sk_x': 'player.id.skillcorner', 'player_id_sk_y': 'pass.recipient.id.skillcorner'}, inplace=True)\n",
    "passes_df.drop(columns=['player_id_wy_x', 'player_id_wy_y'] , inplace=True)"
   ]
  },
  {
   "cell_type": "code",
   "execution_count": 10,
   "metadata": {},
   "outputs": [],
   "source": [
    "passes_df['tracking.is_teammate'] = (passes_df['team.name'] == passes_df['tracking.team_name'])\n",
    "passes_df['tracking.is_self'] = (passes_df['player.id.skillcorner'] == passes_df['tracking.player.id.skillcorner'])"
   ]
  },
  {
   "cell_type": "markdown",
   "metadata": {},
   "source": [
    "Validate coordinate transformation. Wyscout's [location.x, location.y] are standardized accoridng to pitch dimensions. Skillcorner's [tracking.x, tracking.y] are absolute measurements. They should match."
   ]
  },
  {
   "cell_type": "code",
   "execution_count": 12,
   "metadata": {},
   "outputs": [
    {
     "data": {
      "text/html": [
       "<div>\n",
       "<style scoped>\n",
       "    .dataframe tbody tr th:only-of-type {\n",
       "        vertical-align: middle;\n",
       "    }\n",
       "\n",
       "    .dataframe tbody tr th {\n",
       "        vertical-align: top;\n",
       "    }\n",
       "\n",
       "    .dataframe thead th {\n",
       "        text-align: right;\n",
       "    }\n",
       "</style>\n",
       "<table border=\"1\" class=\"dataframe\">\n",
       "  <thead>\n",
       "    <tr style=\"text-align: right;\">\n",
       "      <th></th>\n",
       "      <th>location.x.wyscout</th>\n",
       "      <th>location.y.wyscout</th>\n",
       "      <th>location.x</th>\n",
       "      <th>location.y</th>\n",
       "      <th>tracking.x</th>\n",
       "      <th>tracking.y</th>\n",
       "    </tr>\n",
       "  </thead>\n",
       "  <tbody>\n",
       "    <tr>\n",
       "      <th>21</th>\n",
       "      <td>51</td>\n",
       "      <td>50</td>\n",
       "      <td>-1.058824</td>\n",
       "      <td>0.000000</td>\n",
       "      <td>-0.70</td>\n",
       "      <td>0.90</td>\n",
       "    </tr>\n",
       "    <tr>\n",
       "      <th>39</th>\n",
       "      <td>42</td>\n",
       "      <td>83</td>\n",
       "      <td>8.470588</td>\n",
       "      <td>21.616842</td>\n",
       "      <td>9.87</td>\n",
       "      <td>11.72</td>\n",
       "    </tr>\n",
       "    <tr>\n",
       "      <th>56</th>\n",
       "      <td>29</td>\n",
       "      <td>60</td>\n",
       "      <td>22.235294</td>\n",
       "      <td>7.046154</td>\n",
       "      <td>22.60</td>\n",
       "      <td>7.11</td>\n",
       "    </tr>\n",
       "    <tr>\n",
       "      <th>79</th>\n",
       "      <td>25</td>\n",
       "      <td>28</td>\n",
       "      <td>26.470588</td>\n",
       "      <td>-14.660000</td>\n",
       "      <td>22.84</td>\n",
       "      <td>-18.80</td>\n",
       "    </tr>\n",
       "    <tr>\n",
       "      <th>100</th>\n",
       "      <td>32</td>\n",
       "      <td>50</td>\n",
       "      <td>19.058824</td>\n",
       "      <td>0.000000</td>\n",
       "      <td>20.52</td>\n",
       "      <td>-3.75</td>\n",
       "    </tr>\n",
       "    <tr>\n",
       "      <th>...</th>\n",
       "      <td>...</td>\n",
       "      <td>...</td>\n",
       "      <td>...</td>\n",
       "      <td>...</td>\n",
       "      <td>...</td>\n",
       "      <td>...</td>\n",
       "    </tr>\n",
       "    <tr>\n",
       "      <th>19543</th>\n",
       "      <td>46</td>\n",
       "      <td>65</td>\n",
       "      <td>4.235294</td>\n",
       "      <td>10.382222</td>\n",
       "      <td>-2.42</td>\n",
       "      <td>-12.15</td>\n",
       "    </tr>\n",
       "    <tr>\n",
       "      <th>19566</th>\n",
       "      <td>40</td>\n",
       "      <td>89</td>\n",
       "      <td>10.588235</td>\n",
       "      <td>25.987368</td>\n",
       "      <td>-6.34</td>\n",
       "      <td>-28.24</td>\n",
       "    </tr>\n",
       "    <tr>\n",
       "      <th>19587</th>\n",
       "      <td>61</td>\n",
       "      <td>91</td>\n",
       "      <td>-11.647059</td>\n",
       "      <td>27.444211</td>\n",
       "      <td>4.19</td>\n",
       "      <td>-28.35</td>\n",
       "    </tr>\n",
       "    <tr>\n",
       "      <th>19606</th>\n",
       "      <td>72</td>\n",
       "      <td>30</td>\n",
       "      <td>-23.294118</td>\n",
       "      <td>-13.437778</td>\n",
       "      <td>20.55</td>\n",
       "      <td>11.67</td>\n",
       "    </tr>\n",
       "    <tr>\n",
       "      <th>19633</th>\n",
       "      <td>80</td>\n",
       "      <td>17</td>\n",
       "      <td>-31.764706</td>\n",
       "      <td>-21.616842</td>\n",
       "      <td>35.95</td>\n",
       "      <td>22.76</td>\n",
       "    </tr>\n",
       "  </tbody>\n",
       "</table>\n",
       "<p>893 rows × 6 columns</p>\n",
       "</div>"
      ],
      "text/plain": [
       "       location.x.wyscout  location.y.wyscout  location.x  location.y  \\\n",
       "21                     51                  50   -1.058824    0.000000   \n",
       "39                     42                  83    8.470588   21.616842   \n",
       "56                     29                  60   22.235294    7.046154   \n",
       "79                     25                  28   26.470588  -14.660000   \n",
       "100                    32                  50   19.058824    0.000000   \n",
       "...                   ...                 ...         ...         ...   \n",
       "19543                  46                  65    4.235294   10.382222   \n",
       "19566                  40                  89   10.588235   25.987368   \n",
       "19587                  61                  91  -11.647059   27.444211   \n",
       "19606                  72                  30  -23.294118  -13.437778   \n",
       "19633                  80                  17  -31.764706  -21.616842   \n",
       "\n",
       "       tracking.x  tracking.y  \n",
       "21          -0.70        0.90  \n",
       "39           9.87       11.72  \n",
       "56          22.60        7.11  \n",
       "79          22.84      -18.80  \n",
       "100         20.52       -3.75  \n",
       "...           ...         ...  \n",
       "19543       -2.42      -12.15  \n",
       "19566       -6.34      -28.24  \n",
       "19587        4.19      -28.35  \n",
       "19606       20.55       11.67  \n",
       "19633       35.95       22.76  \n",
       "\n",
       "[893 rows x 6 columns]"
      ]
     },
     "execution_count": 12,
     "metadata": {},
     "output_type": "execute_result"
    }
   ],
   "source": [
    "passes_df[passes_df['tracking.is_self']][['location.x.wyscout', 'location.y.wyscout', 'location.x', 'location.y', 'tracking.x', 'tracking.y']]"
   ]
  },
  {
   "cell_type": "code",
   "execution_count": 14,
   "metadata": {},
   "outputs": [],
   "source": [
    "passes_df['responsibility'] = passes_df.apply(responsibility, axis=1, pass_length_factor=1)\n",
    "passes_df['responsibility'] = np.where(passes_df['tracking.is_teammate'], 0, passes_df['responsibility'])"
   ]
  },
  {
   "cell_type": "code",
   "execution_count": null,
   "metadata": {},
   "outputs": [],
   "source": [
    "# skillcorner_cols = [col for col in passes_df.columns if col.startswith('tracking.')]\n",
    "# wyscout_cols = [col for col in passes_df.columns if col not in skillcorner_cols]\n",
    "# passes_df = passes_df.groupby(wyscout_cols).agg(list)"
   ]
  }
 ],
 "metadata": {
  "kernelspec": {
   "display_name": "fball-analytics",
   "language": "python",
   "name": "python3"
  },
  "language_info": {
   "codemirror_mode": {
    "name": "ipython",
    "version": 3
   },
   "file_extension": ".py",
   "mimetype": "text/x-python",
   "name": "python",
   "nbconvert_exporter": "python",
   "pygments_lexer": "ipython3",
   "version": "3.10.15"
  }
 },
 "nbformat": 4,
 "nbformat_minor": 2
}
