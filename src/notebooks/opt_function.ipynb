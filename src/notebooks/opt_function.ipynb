{
 "cells": [
  {
   "cell_type": "code",
   "execution_count": 1,
   "metadata": {},
   "outputs": [],
   "source": [
    "import sys\n",
    "sys.path.append('../')\n",
    "\n",
    "import pandas as pd\n",
    "import numpy as np\n",
    "import matplotlib.pyplot as plt"
   ]
  },
  {
   "cell_type": "code",
   "execution_count": 2,
   "metadata": {},
   "outputs": [],
   "source": [
    "WYSCOUT_ID = 5414111\n",
    "SKILLCORNER_ID = 952209\n",
    "\n",
    "NETWORKS_PATH = f'../../data/networks/match_{SKILLCORNER_ID}/'\n",
    "PASSES_DF_PATH = NETWORKS_PATH + 'passes_df.csv'\n",
    "\n",
    "DATA_PATH= f'../../data/'\n",
    "XT_PLOT_PATH = DATA_PATH + 'smoothed_xt.csv'\n",
    "METADATA_PATH = DATA_PATH + f'skillcorner/{SKILLCORNER_ID}_metadata.csv'"
   ]
  },
  {
   "cell_type": "code",
   "execution_count": 3,
   "metadata": {},
   "outputs": [],
   "source": [
    "passes_df = pd.read_csv(PASSES_DF_PATH)\n",
    "xt_table = pd.read_csv(XT_PLOT_PATH)"
   ]
  },
  {
   "cell_type": "markdown",
   "metadata": {},
   "source": [
    "# Utils"
   ]
  },
  {
   "cell_type": "markdown",
   "metadata": {},
   "source": [
    "## ΔxT"
   ]
  },
  {
   "cell_type": "code",
   "execution_count": 4,
   "metadata": {},
   "outputs": [],
   "source": [
    "pitch_length, pitch_width = pd.read_csv(METADATA_PATH)[['pitch_length', 'pitch_width']].values[0]\n",
    "cell_width = pitch_length / xt_table.shape[1]\n",
    "cell_height = pitch_width / xt_table.shape[0]\n",
    "\n",
    "def adjust_coordinates(x, y, direction):\n",
    "    if direction == 'TOP_TO_BOTTOM':\n",
    "        x = - x + pitch_length/2\n",
    "        y = -y + pitch_width/2\n",
    "    elif direction == 'BOTTOM_TO_TOP':\n",
    "        x = x + pitch_length/2\n",
    "        y = y + pitch_width/2\n",
    "    return x, y\n",
    "\n",
    "def get_xt_index(x, y, direction):\n",
    "    x_adj, y_adj = adjust_coordinates(x, y, direction)\n",
    "    x_index = int(min(x_adj // cell_width, xt_table.shape[1] - 1))\n",
    "    y_index = int(min(y_adj // cell_height, xt_table.shape[0] - 1))\n",
    "    return x_index, y_index\n",
    "\n",
    "def get_xt_value(x, y, direction):\n",
    "    x_index, y_index = get_xt_index(x, y, direction)\n",
    "    return xt_table.iat[y_index, x_index]\n",
    "\n",
    "def get_dxt(x_start, y_start, x_end, y_end, direction):\n",
    "    start_xt = get_xt_value(x_start, y_start, direction)\n",
    "    end_xt = get_xt_value(x_end, y_end, direction)\n",
    "    return end_xt - start_xt"
   ]
  },
  {
   "cell_type": "markdown",
   "metadata": {},
   "source": [
    "## Defender Responsibility "
   ]
  },
  {
   "cell_type": "code",
   "execution_count": 5,
   "metadata": {},
   "outputs": [],
   "source": [
    "def responsibility(start_x, start_y, end_x, end_y, player_x, player_y, ball_speed=12.0, defender_speed=6.0):\n",
    "\n",
    "    # Pass vector and length\n",
    "    pass_vector = np.array([end_x - start_x, end_y - start_y])\n",
    "    pass_length = np.linalg.norm(pass_vector)\n",
    "\n",
    "    if pass_length == 0:\n",
    "        return 0\n",
    "    \n",
    "    pass_unit_vector = pass_vector / pass_length\n",
    "    player_vector = np.array([player_x - start_x, player_y - start_y])\n",
    "\n",
    "\n",
    "    projection_length = np.dot(player_vector, pass_unit_vector)\n",
    "    projection_length = max(0, min(projection_length, pass_length))\n",
    "\n",
    "    perpendicular_distance = np.linalg.norm(player_vector - (projection_length * pass_unit_vector))\n",
    "    triangle_width_at_point = 2 * defender_speed * (projection_length / ball_speed)\n",
    "\n",
    "    half_width = triangle_width_at_point / 2\n",
    "    if perpendicular_distance <= half_width and projection_length <= pass_length:\n",
    "        responsibility_score = 1 - (perpendicular_distance / half_width)\n",
    "    else:\n",
    "        responsibility_score = 0\n",
    "\n",
    "    return responsibility_score"
   ]
  },
  {
   "cell_type": "markdown",
   "metadata": {},
   "source": [
    "## Plotting"
   ]
  },
  {
   "cell_type": "code",
   "execution_count": 6,
   "metadata": {},
   "outputs": [],
   "source": [
    "def defender_true_location(data, frame_id, defender_id):\n",
    "    data = data[data['frame'] == frame_id]\n",
    "    try:\n",
    "        return data[data['tracking.object_id'] == defender_id][['tracking.x', 'tracking.y']].values[0]\n",
    "    except:\n",
    "        print(\"Defender id {} not in frame {}\".format(defender_id, frame_id))\n",
    "\n",
    "def get_attacker_locations(data, frame_id, include_passer=False):\n",
    "    data = data[data['frame'] == frame_id]\n",
    "    data = data[data['tracking.is_teammate']]\n",
    "    if not include_passer:\n",
    "        data = data[~data['tracking.is_self']]\n",
    "    data = data[data['tracking.object_id'] != -1]\n",
    "    return data[['tracking.x', 'tracking.y']].values\n",
    "\n",
    "def get_defender_locations(data, frame_id):\n",
    "    data = data[data['frame'] == frame_id]\n",
    "    data = data[~data['tracking.is_teammate'] & ~data['tracking.is_self']]\n",
    "    data = data[data['tracking.object_id'] != -1]\n",
    "    return data[['tracking.x', 'tracking.y']].values"
   ]
  },
  {
   "cell_type": "code",
   "execution_count": 7,
   "metadata": {},
   "outputs": [],
   "source": [
    "def plot_frame(data, frame_id):\n",
    "    data = data[data['frame'] == frame_id]\n",
    "    data = data[data['tracking.object_id'] != -1]\n",
    "    _, ax = plt.subplots()\n",
    "    ax.set_xlim([-pitch_length/2, pitch_length/2])\n",
    "    ax.set_ylim([-pitch_width/2, pitch_width/2])\n",
    "    \n",
    "    # Create a dictionary to store the labels\n",
    "    labels = {'Passer': None, 'Teammate': None, 'Opponent': None}\n",
    "    \n",
    "    for _, player in data.iterrows():\n",
    "        x, y = player['tracking.x'], player['tracking.y']\n",
    "        if player['tracking.is_self']:\n",
    "            color = 'green'\n",
    "            marker = 'D'\n",
    "            label = 'Passer'\n",
    "        elif player['tracking.is_teammate']:\n",
    "            color = 'blue'\n",
    "            marker = 'D'\n",
    "            label = 'Teammate'\n",
    "        else:\n",
    "            color = 'red'\n",
    "            marker = 'o'\n",
    "            label = 'Opponent'\n",
    "        # Plot the player and store the label if not already stored\n",
    "        scatter = ax.scatter(x, y, color=color, marker=marker)\n",
    "        # anotate defenders only\n",
    "        if not player['tracking.is_teammate']:\n",
    "            ax.annotate(player['tracking.object_id'], (x, y), textcoords=\"offset points\", xytext=(0,10), ha='center')\n",
    "        if labels[label] is None:\n",
    "            labels[label] = scatter\n",
    "            \n",
    "    # Add arrow indicating direction of play\n",
    "    direction = data['play_direction'].values[0]\n",
    "    if direction == 'TOP_TO_BOTTOM':\n",
    "        # right to left arrow\n",
    "        ax.arrow(pitch_length/2, 0, -pitch_length/32, 0, head_width=2, head_length=4, fc='k', ec='k')\n",
    "    else:\n",
    "        # left to right arrow\n",
    "        ax.arrow(-pitch_length/2, 0, pitch_length/32, 0, head_width=2, head_length=4, fc='k', ec='k')\n",
    "\n",
    "    # Create the legend\n",
    "    ax.legend(labels.values(), labels.keys())\n",
    "    plt.show()"
   ]
  },
  {
   "cell_type": "code",
   "execution_count": 8,
   "metadata": {},
   "outputs": [],
   "source": [
    "def plot_players(passes_df, frame_id, defender_id=None, max_threat_receiver_id=None): \n",
    "    # Get the passer and receiver of the true pass \n",
    "    passer_id = passes_df[passes_df['frame'] == frame_id]['player.id.skillcorner'].values[0]\n",
    "    passer_loc = passes_df[(passes_df['frame'] == frame_id) & (passes_df['tracking.object_id'] == passer_id)][['tracking.x', 'tracking.y']].values[0]\n",
    "    receiver_id = passes_df[passes_df['frame'] == frame_id]['pass.recipient.id.skillcorner'].values[0]\n",
    "    receiver_loc = passes_df[(passes_df['frame'] == frame_id) & (passes_df['tracking.object_id'] == receiver_id)][['tracking.x', 'tracking.y']].values[0]\n",
    "    x_start, y_start = passer_loc\n",
    "    x_end, y_end = receiver_loc\n",
    "\n",
    "    # Plot true pass\n",
    "    plt.plot([x_start, x_end], [y_start, y_end], color='black', linestyle='dashed', label='True Pass', linewidth=1)\n",
    "\n",
    "    # Plot highest scoring pass\n",
    "    if max_threat_receiver_id:\n",
    "        max_threat_receiver_loc = passes_df[(passes_df['frame'] == frame_id) & (passes_df['tracking.object_id'] == max_threat_receiver_id)][['tracking.x', 'tracking.y']].values[0]\n",
    "        x_best, y_best = max_threat_receiver_loc\n",
    "        plt.plot([x_start, x_best], [y_start, y_best], color='gray', linestyle='dashed', label='Best Pass', linewidth=1)\n",
    "\n",
    "    # Plot attackers\n",
    "    attackers = get_attacker_locations(passes_df, frame_id, include_passer=False)\n",
    "    plt.scatter(attackers[:,0], attackers[:,1], color='red', marker='D', label='Attackers')\n",
    "\n",
    "    # Plot defenders\n",
    "    defenders = get_defender_locations(passes_df, frame_id)\n",
    "    plt.scatter(defenders[:,0], defenders[:,1], color='blue', label='Defenders')\n",
    "\n",
    "    # Plot passer\n",
    "    plt.scatter(*passer_loc, color='green', marker='D', label='Passer')\n",
    "\n",
    "    # Plot target defender\n",
    "    if defender_id:\n",
    "        x_def, y_def = defender_true_location(passes_df, frame_id, defender_id)\n",
    "        plt.scatter(x_def, y_def, color='pink', label='Target Defender')"
   ]
  },
  {
   "cell_type": "code",
   "execution_count": 9,
   "metadata": {},
   "outputs": [],
   "source": [
    "def passers_expected_threat(defender_x, defender_y, defender_id, passer_loc, recipients, defenders):\n",
    "    \n",
    "    defenders.loc[defenders['tracking.object_id'] == defender_id, ['tracking.x', 'tracking.y']] = [defender_x, defender_y]\n",
    "\n",
    "    expected_threat_dict = {}\n",
    "    for _, recipient in recipients.iterrows():\n",
    "        \n",
    "        # Threat of the pass\n",
    "        threat_of_pass = recipient['threat_of_pass']\n",
    "        # Pass success probability\n",
    "        prob_success = 1\n",
    "        for _, defender in defenders.iterrows(): \n",
    "            resp_value = responsibility(*passer_loc, recipient['tracking.x'], recipient['tracking.y'], defender['tracking.x'], defender['tracking.y'])\n",
    "            prob_success *= (1 - resp_value)\n",
    "\n",
    "        # Expected threat\n",
    "        expected_threat_dict[recipient['tracking.object_id']] = threat_of_pass * prob_success\n",
    "        \n",
    "    return expected_threat_dict\n",
    "\n",
    "def create_opt_func(data, frame_id, defender_id):\n",
    "    data = data[data['frame'] == frame_id]\n",
    "    \n",
    "    recipients = data[data['tracking.is_teammate'] & ~data['tracking.is_self'] & (data['tracking.object_id'] != -1)].copy()\n",
    "    defenders = data[~data['tracking.is_teammate'] & ~data['tracking.is_self'] & (data['tracking.object_id'] != -1)].copy()\n",
    "    \n",
    "    passer_id = data['player.id.skillcorner'].values[0]\n",
    "    passer_location = data[data['tracking.object_id'] == passer_id][['tracking.x', 'tracking.y']].values[0]\n",
    "    \n",
    "    play_direction =  data['play_direction'].values[0]\n",
    "    \n",
    "    threats = []\n",
    "    for _, recipient in recipients.iterrows():\n",
    "        recipient_location = recipient['tracking.x'], recipient['tracking.y']\n",
    "        threats.append(get_dxt(*passer_location, *recipient_location, play_direction))\n",
    "    recipients['threat_of_pass'] = threats\n",
    "    def opt_func(x,y):\n",
    "        return passers_expected_threat(x, y, defender_id, passer_location, recipients, defenders)\n",
    "    return opt_func\n",
    "\n",
    "def threat_aggregator(mode='softmax', k=3, temp=1):\n",
    "    if mode == 'max':\n",
    "        return lambda x: max(x.values())\n",
    "    elif mode == 'softmax':\n",
    "        def softmax(x):\n",
    "            \"\"\"\n",
    "            x = np.array(list(x.values()))\n",
    "            exp_x = np.exp(x/temp)\n",
    "            softmax_scores = exp_x / np.sum(exp_x) \n",
    "            return sum(softmax_scores * x)\"\"\"\n",
    "            x_values = np.array(list(x.values()))\n",
    "            positive_values = x_values[x_values > 0]\n",
    "            if len(positive_values) == 0:  # Handle case where no positive values are present\n",
    "                return 0\n",
    "            exp_x = np.exp(positive_values / temp)\n",
    "            softmax_scores = exp_x / np.sum(exp_x)\n",
    "            return sum(softmax_scores * positive_values)\n",
    "        return softmax\n",
    "        return lambda x: sum([np.exp(v) for v in x.values()])\n",
    "    elif mode == 'topK':\n",
    "        return lambda x: sum(sorted(x.values(), reverse=True)[:k])\n",
    "    elif mode == 'mean':\n",
    "        return lambda x: sum(x.values()) / len(x)\n",
    "    elif mode == 'sum':\n",
    "        return lambda x: sum(x.values())\n",
    "    else:\n",
    "        raise ValueError('Invalid mode')\n",
    "    "
   ]
  },
  {
   "cell_type": "markdown",
   "metadata": {},
   "source": [
    "# Filter events where all options have negative dxt"
   ]
  },
  {
   "cell_type": "code",
   "execution_count": 10,
   "metadata": {},
   "outputs": [],
   "source": [
    "def all_neg(scores):\n",
    "    for v in scores.values():\n",
    "        if v > 0:\n",
    "            return False\n",
    "    return True\n",
    "\n",
    "def all_negative_dxt_frames(passes_df):\n",
    "    all_negative_frame = []\n",
    "    pass_frames = passes_df['frame'].unique()\n",
    "\n",
    "    for frame in pass_frames:\n",
    "        #print(frame)\n",
    "        opt_func = create_opt_func(passes_df, frame, -1)\n",
    "        defender_location = defender_true_location(passes_df, frame, -1)\n",
    "        \n",
    "        x_origin, y_origin = defender_location\n",
    "        \n",
    "        true_scores = opt_func(x_origin, y_origin)\n",
    "\n",
    "\n",
    "        if all_neg(true_scores):\n",
    "            all_negative_frame.append(frame)\n",
    "\n",
    "    return all_negative_frame\n"
   ]
  },
  {
   "cell_type": "code",
   "execution_count": 11,
   "metadata": {},
   "outputs": [],
   "source": [
    "negative_frames = all_negative_dxt_frames(passes_df)\n",
    "\n",
    "# Filter passes_df to exclude these frames\n",
    "passes_df = passes_df[~passes_df['frame'].isin(negative_frames)]"
   ]
  },
  {
   "cell_type": "markdown",
   "metadata": {},
   "source": [
    "# Visualize Player Locations"
   ]
  },
  {
   "cell_type": "code",
   "execution_count": 34,
   "metadata": {},
   "outputs": [
    {
     "data": {
      "image/png": "[encoded data removed]",
      "text/plain": [
       "<Figure size 640x480 with 1 Axes>"
      ]
     },
     "metadata": {},
     "output_type": "display_data"
    }
   ],
   "source": [
    "#frame_id = np.random.choice(passes_df['frame'].unique())\n",
    "frame_id = 10664\n",
    "plot_frame(passes_df, frame_id)"
   ]
  },
  {
   "cell_type": "markdown",
   "metadata": {},
   "source": [
    "# Defender Position Score Visualization"
   ]
  },
  {
   "cell_type": "code",
   "execution_count": 14,
   "metadata": {},
   "outputs": [
    {
     "data": {
      "text/plain": [
       "\"\\nframe_id = 48981\\ndefender_id = 12246\\n\\nif frame_id not in passes_df['frame'].unique():\\n    print('This passer does not have any options that would generate a positive threat')\\n\\nopt_func = create_opt_func(passes_df, frame_id, defender_id)\\nthreat_agg = threat_aggregator('mean')\\n\\n# Get target defender's true location\\nx_def, y_def = defender_true_location(passes_df, frame_id, defender_id)\\n\\n# Get achieved score of the target defender\\ntrue_scores = opt_func(x_def, y_def)\\ntrue_score = threat_agg(true_scores)\\nmax_threat_receiver_id = max(true_scores, key=true_scores.get)\\n\\n# Create a meshgrid around the origin point\\nx = np.linspace(max(x_def - 20, -pitch_length/2), min(x_def + 20, pitch_length/2), 30)\\ny = np.linspace(max(x_def -20, -pitch_width/2), min(y_def + 20, pitch_length/2), 30)\\nX, Y = np.meshgrid(x, y)\\n\\n# Evaluate the function on the grid\\nZ = np.zeros_like(X)\\nfor i in range(X.shape[0]):\\n    for j in range(X.shape[1]):\\n        Z[i, j] = -threat_agg((opt_func(X[i,j],Y[i,j])))\\n\\n# Plot the function\\nplt.figure(figsize=(10, 6))\\nplt.contourf(X, Y, Z, levels=50, cmap='viridis')\\nplt.colorbar(label='Function Value')\\n\\nplot_players(passes_df, frame_id, defender_id, max_threat_receiver_id)\\n\\nplt.legend()\\nplt.title('Score of Target Defender (Average of Attacker Options)')\\nplt.xlabel('X-axis')\\nplt.ylabel('Y-axis')\\nplt.xlim([-pitch_length/2, pitch_length/2])\\nplt.ylim([-pitch_width/2, pitch_width/2])\\nplt.show()\""
      ]
     },
     "execution_count": 14,
     "metadata": {},
     "output_type": "execute_result"
    }
   ],
   "source": [
    "\"\"\"\n",
    "frame_id = 48981\n",
    "defender_id = 12246\n",
    "\n",
    "if frame_id not in passes_df['frame'].unique():\n",
    "    print('This passer does not have any options that would generate a positive threat')\n",
    "\n",
    "opt_func = create_opt_func(passes_df, frame_id, defender_id)\n",
    "threat_agg = threat_aggregator('mean')\n",
    "\n",
    "# Get target defender's true location\n",
    "x_def, y_def = defender_true_location(passes_df, frame_id, defender_id)\n",
    "\n",
    "# Get achieved score of the target defender\n",
    "true_scores = opt_func(x_def, y_def)\n",
    "true_score = threat_agg(true_scores)\n",
    "max_threat_receiver_id = max(true_scores, key=true_scores.get)\n",
    "\n",
    "# Create a meshgrid around the origin point\n",
    "x = np.linspace(max(x_def - 20, -pitch_length/2), min(x_def + 20, pitch_length/2), 30)\n",
    "y = np.linspace(max(x_def -20, -pitch_width/2), min(y_def + 20, pitch_length/2), 30)\n",
    "X, Y = np.meshgrid(x, y)\n",
    "\n",
    "# Evaluate the function on the grid\n",
    "Z = np.zeros_like(X)\n",
    "for i in range(X.shape[0]):\n",
    "    for j in range(X.shape[1]):\n",
    "        Z[i, j] = -threat_agg((opt_func(X[i,j],Y[i,j])))\n",
    "\n",
    "# Plot the function\n",
    "plt.figure(figsize=(10, 6))\n",
    "plt.contourf(X, Y, Z, levels=50, cmap='viridis')\n",
    "plt.colorbar(label='Function Value')\n",
    "\n",
    "plot_players(passes_df, frame_id, defender_id, max_threat_receiver_id)\n",
    "\n",
    "plt.legend()\n",
    "plt.title('Score of Target Defender (Average of Attacker Options)')\n",
    "plt.xlabel('X-axis')\n",
    "plt.ylabel('Y-axis')\n",
    "plt.xlim([-pitch_length/2, pitch_length/2])\n",
    "plt.ylim([-pitch_width/2, pitch_width/2])\n",
    "plt.show()\"\"\""
   ]
  },
  {
   "cell_type": "code",
   "execution_count": 74,
   "metadata": {},
   "outputs": [
    {
     "name": "stdout",
     "output_type": "stream",
     "text": [
      "Maximum threat: -0.00016565881712134306\n",
      "Optimal location: (-43.45551724137931, -11.29034482758621)\n",
      "True threat: -0.003565726596411329\n",
      "True location: (-45.03, -13.34)\n",
      "Improvement: 0.003400067779289986\n",
      "Improvement percentage:\t 95.354136%\n"
     ]
    },
    {
     "data": {
      "image/png": "[encoded data removed]",
      "text/plain": [
       "<Figure size 1000x600 with 2 Axes>"
      ]
     },
     "metadata": {},
     "output_type": "display_data"
    }
   ],
   "source": [
    "frame_id = 10664\n",
    "defender_id = 16320\n",
    "\n",
    "opt_func = create_opt_func(passes_df, frame_id, defender_id)\n",
    "threat_agg = threat_aggregator('softmax', temp=0.005)\n",
    "#threat_agg = threat_aggregator('max')\n",
    "\n",
    "# Get target defender's true location\n",
    "x_def, y_def = defender_true_location(passes_df, frame_id, defender_id)\n",
    "\n",
    "# Get achieved score of the target defender\n",
    "true_scores = opt_func(x_def, y_def)\n",
    "true_score = -threat_agg(true_scores)\n",
    "max_threat_receiver_id = max(true_scores, key=true_scores.get)\n",
    "\n",
    "grid = 30\n",
    "# Create a meshgrid around the origin point\n",
    "x = np.linspace(max(x_def - grid, -pitch_length/2), min(x_def + grid, pitch_length/2), 30)\n",
    "y = np.linspace(max(y_def - grid, -pitch_width/2), min(y_def + grid, pitch_width/2), 30)\n",
    "X, Y = np.meshgrid(x, y)\n",
    "\n",
    "\n",
    "\n",
    "# Evaluate the function on the grid\n",
    "Z = np.zeros_like(X)\n",
    "for i in range(X.shape[0]):\n",
    "    for j in range(X.shape[1]):\n",
    "        Z[i, j] = -threat_agg((opt_func(X[i,j],Y[i,j])))\n",
    "\n",
    "M = 50000\n",
    "max_Z = true_score\n",
    "x, y = x_def, y_def\n",
    "radius = 5  # 5 meters radius\n",
    "for i in range(Z.shape[0]):\n",
    "    for j in range(Z.shape[1]):\n",
    "        # Calculate the distance to the defender's original location\n",
    "        distance = np.sqrt((X[i, j] - x_def)**2 + (Y[i, j] - y_def)**2)\n",
    "        # Consider only points within the specified radius\n",
    "        if distance <= radius and Z[i, j] > max_Z: # distance filtresinde sıkıntı çıkabiliyor\n",
    "            max_Z = Z[i, j]\n",
    "            x, y = X[i, j], Y[i, j]\n",
    "\n",
    "            \n",
    "print(f'Maximum threat: {max_Z}')\n",
    "print(f'Optimal location: ({x}, {y})')\n",
    "print(f'True threat: {true_score}')\n",
    "print(f'True location: ({x_def}, {y_def})')\n",
    "print(f'Improvement: {max_Z - true_score}')\n",
    "print(f'Improvement percentage:\\t {100 * (max_Z - true_score) / abs(true_score):.6f}%')\n",
    "\n",
    "            \n",
    "# Plot the function\n",
    "plt.figure(figsize=(10, 6))\n",
    "plt.contourf(X, Y, Z, levels=50, cmap='viridis')\n",
    "plt.colorbar(label='Function Value')\n",
    "\n",
    "plt.scatter(x, y, color='red', marker='x', label='Min Threat Location')\n",
    "\n",
    "plot_players(passes_df, frame_id, defender_id, max_threat_receiver_id)\n",
    "circle = plt.Circle((x_def, y_def), radius, color='black', fill=False)\n",
    "plt.gca().add_artist(circle)\n",
    "plt.legend()\n",
    "plt.title('Score of Target Defender (Max of Attacker Options)')\n",
    "plt.xlabel('X-axis')\n",
    "plt.ylabel('Y-axis')\n",
    "plt.xlim([-pitch_length/2, pitch_length/2])\n",
    "plt.ylim([-pitch_width/2, pitch_width/2])\n",
    "plt.show()"
   ]
  },
  {
   "cell_type": "code",
   "execution_count": 20,
   "metadata": {},
   "outputs": [
    {
     "data": {
      "text/plain": [
       "{7604: -0.0411794754828586,\n",
       " 16320: np.float64(3.4690192720832483e-06),\n",
       " 11516: np.float64(2.5972203847235334e-05),\n",
       " 11630: -0.0105536460272296,\n",
       " 11606: -0.0033634416746188,\n",
       " 277: np.float64(5.0530166177631306e-09),\n",
       " 946: np.float64(0.015654806207836897),\n",
       " 5922: np.float64(0.0029723750565670707),\n",
       " 6028: np.float64(0.0055100015097702204),\n",
       " 12190: np.float64(1.5815609352627501e-06)}"
      ]
     },
     "execution_count": 20,
     "metadata": {},
     "output_type": "execute_result"
    }
   ],
   "source": [
    "true_scores"
   ]
  },
  {
   "cell_type": "code",
   "execution_count": 27,
   "metadata": {},
   "outputs": [
    {
     "data": {
      "text/plain": [
       "\"\\nframe_id = 48981\\ndefender_id = 12246\\n\\nopt_func = create_opt_func(passes_df, frame_id, defender_id)\\nthreat_agg = threat_aggregator('max')\\n\\n# Get target defender's true location\\nx_def, y_def = defender_true_location(passes_df, frame_id, defender_id)\\n\\n# Get achieved score of the target defender\\ntrue_scores = opt_func(x_def, y_def)\\ntrue_score = threat_agg(true_scores)\\nmax_threat_receiver_id = max(true_scores, key=true_scores.get)\\n\\n# Create a meshgrid around the origin point\\nx = np.linspace(max(x_def - 20, -pitch_length/2), min(x_def + 20, pitch_length/2), 30)\\ny = np.linspace(max(y_def -20, -pitch_width/2), min(y_def + 20, pitch_width/2), 30)\\nX, Y = np.meshgrid(x, y)\\n\\n# Evaluate the function on the grid\\nZ = np.zeros_like(X)\\nfor i in range(X.shape[0]):\\n    for j in range(X.shape[1]):\\n        Z[i, j] = -threat_agg((opt_func(X[i,j],Y[i,j]))) # defender aims to maximize negative of best threat\\n\\n# Plot the function\\nplt.figure(figsize=(10, 6))\\nplt.contourf(X, Y, Z, levels=50, cmap='viridis')\\nplt.colorbar(label='Function Value')\\n\\nplot_players(passes_df, frame_id, defender_id, max_threat_receiver_id)\\n\\nplt.legend()\\nplt.title('Score of Target Defender (Max of Attacker Options)')\\nplt.xlabel('X-axis')\\nplt.ylabel('Y-axis')\\nplt.xlim([-pitch_length/2, pitch_length/2])\\nplt.ylim([-pitch_width/2, pitch_width/2])\\nplt.show()\""
      ]
     },
     "execution_count": 27,
     "metadata": {},
     "output_type": "execute_result"
    }
   ],
   "source": [
    "\"\"\"\n",
    "frame_id = 48981\n",
    "defender_id = 12246\n",
    "\n",
    "opt_func = create_opt_func(passes_df, frame_id, defender_id)\n",
    "threat_agg = threat_aggregator('max')\n",
    "\n",
    "# Get target defender's true location\n",
    "x_def, y_def = defender_true_location(passes_df, frame_id, defender_id)\n",
    "\n",
    "# Get achieved score of the target defender\n",
    "true_scores = opt_func(x_def, y_def)\n",
    "true_score = threat_agg(true_scores)\n",
    "max_threat_receiver_id = max(true_scores, key=true_scores.get)\n",
    "\n",
    "# Create a meshgrid around the origin point\n",
    "x = np.linspace(max(x_def - 20, -pitch_length/2), min(x_def + 20, pitch_length/2), 30)\n",
    "y = np.linspace(max(y_def -20, -pitch_width/2), min(y_def + 20, pitch_width/2), 30)\n",
    "X, Y = np.meshgrid(x, y)\n",
    "\n",
    "# Evaluate the function on the grid\n",
    "Z = np.zeros_like(X)\n",
    "for i in range(X.shape[0]):\n",
    "    for j in range(X.shape[1]):\n",
    "        Z[i, j] = -threat_agg((opt_func(X[i,j],Y[i,j]))) # defender aims to maximize negative of best threat\n",
    "\n",
    "# Plot the function\n",
    "plt.figure(figsize=(10, 6))\n",
    "plt.contourf(X, Y, Z, levels=50, cmap='viridis')\n",
    "plt.colorbar(label='Function Value')\n",
    "\n",
    "plot_players(passes_df, frame_id, defender_id, max_threat_receiver_id)\n",
    "\n",
    "plt.legend()\n",
    "plt.title('Score of Target Defender (Max of Attacker Options)')\n",
    "plt.xlabel('X-axis')\n",
    "plt.ylabel('Y-axis')\n",
    "plt.xlim([-pitch_length/2, pitch_length/2])\n",
    "plt.ylim([-pitch_width/2, pitch_width/2])\n",
    "plt.show()\"\"\""
   ]
  },
  {
   "cell_type": "code",
   "execution_count": 28,
   "metadata": {},
   "outputs": [
    {
     "data": {
      "text/plain": [
       "\"\\nframe_id = 48981\\ndefender_id = 12246\\n\\nopt_func = create_opt_func(passes_df, frame_id, defender_id)\\nthreat_agg = threat_aggregator('topK', k=3)\\n\\n# Get target defender's true location\\nx_def, y_def = defender_true_location(passes_df, frame_id, defender_id)\\n\\n# Get achieved score of the target defender\\ntrue_scores = opt_func(x_def, y_def)\\ntrue_score = threat_agg(true_scores)\\nmax_threat_receiver_id = max(true_scores, key=true_scores.get)\\n\\n# Create a meshgrid around the origin point\\nx = np.linspace(max(x_def - 20, -pitch_length/2), min(x_def + 20, pitch_length/2), 30)\\ny = np.linspace(max(x_def -20, -pitch_width/2), min(y_def + 20, pitch_length/2), 30)\\nX, Y = np.meshgrid(x, y)\\n\\n# Evaluate the function on the grid\\nZ = np.zeros_like(X)\\nfor i in range(X.shape[0]):\\n    for j in range(X.shape[1]):\\n        Z[i, j] = -threat_agg((opt_func(X[i,j],Y[i,j])))\\n\\n# Plot the function\\nplt.figure(figsize=(10, 6))\\nplt.contourf(X, Y, Z, levels=50, cmap='viridis')\\nplt.colorbar(label='Function Value')\\n\\nplot_players(passes_df, frame_id, defender_id, max_threat_receiver_id)\\n\\nplt.legend()\\nplt.title('Score of Target Defender (Average of topK=3 Attacker Options)')\\nplt.xlabel('X-axis')\\nplt.ylabel('Y-axis')\\nplt.xlim([-pitch_length/2, pitch_length/2])\\nplt.ylim([-pitch_width/2, pitch_width/2])\\nplt.show()\""
      ]
     },
     "execution_count": 28,
     "metadata": {},
     "output_type": "execute_result"
    }
   ],
   "source": [
    "\"\"\"\n",
    "frame_id = 48981\n",
    "defender_id = 12246\n",
    "\n",
    "opt_func = create_opt_func(passes_df, frame_id, defender_id)\n",
    "threat_agg = threat_aggregator('topK', k=3)\n",
    "\n",
    "# Get target defender's true location\n",
    "x_def, y_def = defender_true_location(passes_df, frame_id, defender_id)\n",
    "\n",
    "# Get achieved score of the target defender\n",
    "true_scores = opt_func(x_def, y_def)\n",
    "true_score = threat_agg(true_scores)\n",
    "max_threat_receiver_id = max(true_scores, key=true_scores.get)\n",
    "\n",
    "# Create a meshgrid around the origin point\n",
    "x = np.linspace(max(x_def - 20, -pitch_length/2), min(x_def + 20, pitch_length/2), 30)\n",
    "y = np.linspace(max(x_def -20, -pitch_width/2), min(y_def + 20, pitch_length/2), 30)\n",
    "X, Y = np.meshgrid(x, y)\n",
    "\n",
    "# Evaluate the function on the grid\n",
    "Z = np.zeros_like(X)\n",
    "for i in range(X.shape[0]):\n",
    "    for j in range(X.shape[1]):\n",
    "        Z[i, j] = -threat_agg((opt_func(X[i,j],Y[i,j])))\n",
    "\n",
    "# Plot the function\n",
    "plt.figure(figsize=(10, 6))\n",
    "plt.contourf(X, Y, Z, levels=50, cmap='viridis')\n",
    "plt.colorbar(label='Function Value')\n",
    "\n",
    "plot_players(passes_df, frame_id, defender_id, max_threat_receiver_id)\n",
    "\n",
    "plt.legend()\n",
    "plt.title('Score of Target Defender (Average of topK=3 Attacker Options)')\n",
    "plt.xlabel('X-axis')\n",
    "plt.ylabel('Y-axis')\n",
    "plt.xlim([-pitch_length/2, pitch_length/2])\n",
    "plt.ylim([-pitch_width/2, pitch_width/2])\n",
    "plt.show()\"\"\""
   ]
  },
  {
   "cell_type": "markdown",
   "metadata": {},
   "source": [
    "# Best Passing Option"
   ]
  },
  {
   "cell_type": "code",
   "execution_count": 29,
   "metadata": {},
   "outputs": [
    {
     "name": "stderr",
     "output_type": "stream",
     "text": [
      "/var/folders/z9/z6djmqsd5m1bqhh3jv9ccpz40000gn/T/ipykernel_94920/2832628450.py:35: MatplotlibDeprecationWarning: The get_cmap function was deprecated in Matplotlib 3.7 and will be removed in 3.11. Use ``matplotlib.colormaps[name]`` or ``matplotlib.colormaps.get_cmap()`` or ``pyplot.get_cmap()`` instead.\n",
      "  cmap = plt.cm.get_cmap('viridis', num_labels)\n"
     ]
    },
    {
     "data": {
      "image/png": "[encoded data removed]",
      "text/plain": [
       "<Figure size 1000x600 with 2 Axes>"
      ]
     },
     "metadata": {},
     "output_type": "display_data"
    }
   ],
   "source": [
    "frame_id = 48981\n",
    "defender_id = 12246\n",
    "\n",
    "opt_func = create_opt_func(passes_df, frame_id, defender_id)\n",
    "threat_agg = threat_aggregator('max')\n",
    "\n",
    "# Get target defender's true location\n",
    "x_def, y_def = defender_true_location(passes_df, frame_id, defender_id)\n",
    "\n",
    "# Get achieved score of the target defender\n",
    "true_scores = opt_func(x_def, y_def)\n",
    "true_score = threat_agg(true_scores)\n",
    "max_threat_receiver_id = max(true_scores, key=true_scores.get)\n",
    "\n",
    "# Create a meshgrid around the origin point\n",
    "x = np.linspace(max(x_def - 20, -pitch_length/2), min(x_def + 20, pitch_length/2), 30)\n",
    "y = np.linspace(max(y_def -20, -pitch_width/2), min(y_def + 20, pitch_width/2), 30)\n",
    "X, Y = np.meshgrid(x, y)\n",
    "\n",
    "# Evaluate the function on the grid\n",
    "Z = np.zeros_like(X)\n",
    "P = np.zeros_like(X)\n",
    "for i in range(X.shape[0]):\n",
    "    for j in range(X.shape[1]):\n",
    "        true_scores = opt_func(X[i,j],Y[i,j])\n",
    "        Z[i, j] = -max(true_scores.values())\n",
    "        P[i, j] = max(true_scores, key=true_scores.get)  \n",
    "\n",
    "# Create pass receiver colormap\n",
    "unique_labels = np.unique(P)\n",
    "num_labels = len(unique_labels)\n",
    "label_to_class = {label: idx for idx, label in enumerate(unique_labels)}\n",
    "class_to_label = {idx: label for idx, label in enumerate(unique_labels)}\n",
    "P_class = np.vectorize(label_to_class.get)(P)\n",
    "cmap = plt.cm.get_cmap('viridis', num_labels)\n",
    "\n",
    "plt.figure(figsize=(10, 6))\n",
    "mesh = plt.pcolormesh(X, Y, P_class, cmap=cmap, shading='auto')\n",
    "cbar = plt.colorbar(mesh, ticks=np.arange(num_labels))\n",
    "cbar.ax.set_yticklabels([str(class_to_label[i]) for i in range(num_labels)])\n",
    "cbar.set_label('Pass Receiver')\n",
    "\n",
    "plot_players(passes_df, frame_id, defender_id, max_threat_receiver_id)\n",
    "\n",
    "ax = plt.gca()\n",
    "for label in unique_labels:\n",
    "    x, y = passes_df[(passes_df['frame'] == frame_id) & (passes_df['tracking.object_id'] == label)][['tracking.x', 'tracking.y']].values[0]\n",
    "    ax.annotate(int(label), (x, y), textcoords=\"offset points\", xytext=(0,10), ha='center')\n",
    "\n",
    "plt.legend()\n",
    "plt.title('Pass Recipient for Target Defender Location')\n",
    "plt.xlabel('X-axis')\n",
    "plt.ylabel('Y-axis')\n",
    "plt.xlim([-pitch_length/2, pitch_length/2])\n",
    "plt.ylim([-pitch_width/2, pitch_width/2])\n",
    "plt.show()"
   ]
  },
  {
   "cell_type": "code",
   "execution_count": 36,
   "metadata": {},
   "outputs": [],
   "source": [
    "def optimize_defender_location(opt_func, threat_agg, x_def, y_def, radius=3, grid_res=30):\n",
    "    \n",
    "    x = np.linspace(max(x_def - radius, -pitch_length/2), min(x_def + radius, pitch_length/2), grid_res)\n",
    "    y = np.linspace(max(y_def - radius, -pitch_width/2), min(y_def + radius, pitch_width/2), grid_res)\n",
    "    X, Y = np.meshgrid(x, y)\n",
    "\n",
    "    Z = np.zeros_like(X)\n",
    "    for i in range(X.shape[0]):\n",
    "        for j in range(X.shape[1]):\n",
    "            Z[i, j] = -threat_agg((opt_func(X[i,j],Y[i,j])))\n",
    "    \n",
    "    Z_def = -threat_agg(opt_func(x_def, y_def))\n",
    "    Z_opt = Z_def\n",
    "    x_opt, y_opt = x_def, y_def\n",
    "    for i in range(Z.shape[0]):\n",
    "        for j in range(Z.shape[1]):\n",
    "            distance = np.sqrt((X[i, j] - x_def)**2 + (Y[i, j] - y_def)**2)\n",
    "            if distance <= radius and Z[i, j] > Z_opt:\n",
    "                Z_opt = Z[i, j]\n",
    "                x_opt, y_opt = X[i, j], Y[i, j]\n",
    "    \n",
    "    return Z_opt, x_opt, y_opt"
   ]
  },
  {
   "cell_type": "code",
   "execution_count": null,
   "metadata": {},
   "outputs": [],
   "source": []
  },
  {
   "cell_type": "code",
   "execution_count": 37,
   "metadata": {},
   "outputs": [
    {
     "name": "stdout",
     "output_type": "stream",
     "text": [
      "Optimal Defender Score:\t-0.000080\n",
      "Original Defender Score:-0.003566\n",
      "Improvement:\t\t0.003486\n",
      "Improvement Percentage:\t97.751594%\n",
      "Location:\t\t(-43.714211, -10.445263)\n",
      "Original location:\t(-45.030000, -13.340000)\n"
     ]
    }
   ],
   "source": [
    "frame_id = 10664\n",
    "defender_id = 16320\n",
    "\n",
    "radius = 5\n",
    "grid_res = 20\n",
    "\n",
    "mode = 'softmax'\n",
    "temp = 0.005\n",
    "\n",
    "\n",
    "opt_func = create_opt_func(passes_df, frame_id, defender_id)\n",
    "threat_agg = threat_aggregator(mode=mode, temp=temp)\n",
    "\n",
    "x_def, y_def = defender_true_location(passes_df, frame_id, defender_id)\n",
    "Z_def = -threat_agg(opt_func(x_def, y_def))\n",
    "\n",
    "Z_opt, x_opt, y_opt = optimize_defender_location(opt_func, threat_agg, x_def, y_def, radius=radius, grid_res=grid_res)\n",
    "\n",
    "print(f'Optimal Defender Score:\\t{Z_opt:.6f}')\n",
    "print(f'Original Defender Score:{Z_def:.6f}')\n",
    "print(f'Improvement:\\t\\t{Z_opt - Z_def:.6f}')\n",
    "print(f'Improvement Percentage:\\t{100 * (Z_opt - Z_def) / abs(Z_def):.6f}%')\n",
    "print(f'Location:\\t\\t({x_opt:.6f}, {y_opt:.6f})')\n",
    "print(f'Original location:\\t({x_def:.6f}, {y_def:.6f})')"
   ]
  },
  {
   "cell_type": "markdown",
   "metadata": {},
   "source": [
    "## Function to return average performance of defender"
   ]
  },
  {
   "cell_type": "code",
   "execution_count": 75,
   "metadata": {},
   "outputs": [],
   "source": [
    "def average_percentage_improvement_of_location(defender_id, passes_df, radius = 5, grid_res = 20, mode = 'softmax', temp = 0.005):\n",
    "    \n",
    "    percentage_improvements = []\n",
    "    for frame_id in passes_df['frame'].unique():\n",
    "        frame_df = passes_df[passes_df['frame'] == frame_id]\n",
    "        if (defender_id in frame_df['tracking.object_id'].values and not frame_df.loc[frame_df['tracking.object_id'] == defender_id, 'tracking.is_teammate'].values[0]):\n",
    "            opt_func = create_opt_func(passes_df, frame_id, defender_id)\n",
    "            threat_agg = threat_aggregator(mode=mode, temp=temp)\n",
    "\n",
    "            x_def, y_def = defender_true_location(passes_df, frame_id, defender_id)\n",
    "            Z_def = -threat_agg(opt_func(x_def, y_def))\n",
    "\n",
    "            Z_opt, x_opt, y_opt = optimize_defender_location(opt_func, threat_agg, x_def, y_def, radius=radius, grid_res=grid_res)\n",
    "\n",
    "            improvement = Z_opt - Z_def\n",
    "            improvement_percentage = 100 * improvement / abs(Z_def)\n",
    "\n",
    "            if improvement_percentage > 0:\n",
    "                percentage_improvements.append(improvement_percentage)\n",
    "                \"\"\"\n",
    "                print(f'Optimal Defender Score:\\t{Z_opt:.6f}')\n",
    "                print(f'Original Defender Score:{Z_def:.6f}')\n",
    "                print(f'Improvement:\\t\\t{improvement:.6f}')\n",
    "                print(f'Improvement Percentage:\\t{improvement_percentage:.6f}%')\n",
    "                print(f'Location:\\t\\t({x_opt:.6f}, {y_opt:.6f})')\n",
    "                print(f'Original location:\\t({x_def:.6f}, {y_def:.6f})')\"\"\"\n",
    "    average_positive_improvement = sum(percentage_improvements) / len(percentage_improvements)\n",
    "\n",
    "    return average_positive_improvement, len(percentage_improvements)\n",
    "\n"
   ]
  },
  {
   "cell_type": "code",
   "execution_count": null,
   "metadata": {},
   "outputs": [
    {
     "data": {
      "text/plain": [
       "(np.float64(16.571470553097694), 342)"
      ]
     },
     "execution_count": 76,
     "metadata": {},
     "output_type": "execute_result"
    }
   ],
   "source": [
    "avg_improvement, number_involved_passes = average_percentage_improvement_of_location(defender_id, passes_df)\n",
    "avg_improvement, number_involved_passes"
   ]
  },
  {
   "cell_type": "code",
   "execution_count": null,
   "metadata": {},
   "outputs": [
    {
     "name": "stdout",
     "output_type": "stream",
     "text": [
      "Average potential improvement in decreasing attack threat: % 16.57\n",
      "Number of passes where defender 7863 is involved is 342\n"
     ]
    }
   ],
   "source": [
    "print(\"Average potential improvement in decreasing attack threat: %\", round(avg_improvement, 2))\n",
    "print(f\"Number of passes where defender {defender_id} is involved is {number_involved_passes}\")"
   ]
  }
 ],
 "metadata": {
  "kernelspec": {
   "display_name": "soccer",
   "language": "python",
   "name": "python3"
  },
  "language_info": {
   "codemirror_mode": {
    "name": "ipython",
    "version": 3
   },
   "file_extension": ".py",
   "mimetype": "text/x-python",
   "name": "python",
   "nbconvert_exporter": "python",
   "pygments_lexer": "ipython3",
   "version": "3.11.10"
  }
 },
 "nbformat": 4,
 "nbformat_minor": 2
}
