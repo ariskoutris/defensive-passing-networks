{
 "cells": [
  {
   "cell_type": "code",
   "execution_count": 1,
   "metadata": {},
   "outputs": [],
   "source": [
    "import pandas as pd\n",
    "\n",
    "import sys\n",
    "sys.path.append('../')\n",
    "from utils import *\n",
    "\n",
    "pd.set_option('display.max_columns', None)"
   ]
  },
  {
   "cell_type": "code",
   "execution_count": 2,
   "metadata": {},
   "outputs": [],
   "source": [
    "WYSCOUT_ID = 5414111\n",
    "SKILLCORNER_ID = 952209"
   ]
  },
  {
   "cell_type": "code",
   "execution_count": 3,
   "metadata": {},
   "outputs": [],
   "source": [
    "DATA_PATH = f'../../data/networks/match_{SKILLCORNER_ID}/'\n",
    "PASSES_DF_PATH = DATA_PATH + 'passes_df.pkl'"
   ]
  },
  {
   "cell_type": "markdown",
   "metadata": {},
   "source": [
    "# Passes Network"
   ]
  },
  {
   "cell_type": "code",
   "execution_count": 4,
   "metadata": {},
   "outputs": [],
   "source": [
    "passes_df = pd.read_pickle(PASSES_DF_PATH)"
   ]
  },
  {
   "cell_type": "markdown",
   "metadata": {},
   "source": [
    "Keep only tracking data of players of the opposing team, with responsibility greater than 0."
   ]
  },
  {
   "cell_type": "code",
   "execution_count": 5,
   "metadata": {
    "vscode": {
     "languageId": "ruby"
    }
   },
   "outputs": [],
   "source": [
    "passes_df = passes_df[~passes_df['tracking.is_teammate']]\n",
    "passes_df = passes_df[passes_df['responsibility'] > 0]"
   ]
  },
  {
   "cell_type": "code",
   "execution_count": 6,
   "metadata": {
    "vscode": {
     "languageId": "ruby"
    }
   },
   "outputs": [],
   "source": [
    "passes_df.rename(columns={'matchPeriod': 'match.period'}, inplace=True)"
   ]
  },
  {
   "cell_type": "code",
   "execution_count": 7,
   "metadata": {
    "vscode": {
     "languageId": "ruby"
    }
   },
   "outputs": [
    {
     "data": {
      "text/html": [
       "<div>\n",
       "<style scoped>\n",
       "    .dataframe tbody tr th:only-of-type {\n",
       "        vertical-align: middle;\n",
       "    }\n",
       "\n",
       "    .dataframe tbody tr th {\n",
       "        vertical-align: top;\n",
       "    }\n",
       "\n",
       "    .dataframe thead th {\n",
       "        text-align: right;\n",
       "    }\n",
       "</style>\n",
       "<table border=\"1\" class=\"dataframe\">\n",
       "  <thead>\n",
       "    <tr style=\"text-align: right;\">\n",
       "      <th></th>\n",
       "      <th>match.period</th>\n",
       "      <th>team.name</th>\n",
       "      <th>player.id.wyscout</th>\n",
       "      <th>player.id.skillcorner</th>\n",
       "      <th>pass.recipient.id.wyscout</th>\n",
       "      <th>pass.recipient.id.skillcorner</th>\n",
       "      <th>location.x</th>\n",
       "      <th>location.y</th>\n",
       "      <th>pass.endLocation.x</th>\n",
       "      <th>pass.endLocation.y</th>\n",
       "      <th>play_direction</th>\n",
       "      <th>dxt</th>\n",
       "      <th>tracking.object_id</th>\n",
       "      <th>tracking.x</th>\n",
       "      <th>tracking.y</th>\n",
       "      <th>tracking.z</th>\n",
       "      <th>tracking.is_self</th>\n",
       "      <th>tracking.is_teammate</th>\n",
       "      <th>responsibility</th>\n",
       "    </tr>\n",
       "    <tr>\n",
       "      <th>frame</th>\n",
       "      <th></th>\n",
       "      <th></th>\n",
       "      <th></th>\n",
       "      <th></th>\n",
       "      <th></th>\n",
       "      <th></th>\n",
       "      <th></th>\n",
       "      <th></th>\n",
       "      <th></th>\n",
       "      <th></th>\n",
       "      <th></th>\n",
       "      <th></th>\n",
       "      <th></th>\n",
       "      <th></th>\n",
       "      <th></th>\n",
       "      <th></th>\n",
       "      <th></th>\n",
       "      <th></th>\n",
       "      <th></th>\n",
       "    </tr>\n",
       "  </thead>\n",
       "  <tbody>\n",
       "    <tr>\n",
       "      <th>14301</th>\n",
       "      <td>1</td>\n",
       "      <td>France</td>\n",
       "      <td>209117</td>\n",
       "      <td>277</td>\n",
       "      <td>352988</td>\n",
       "      <td>11516</td>\n",
       "      <td>10.588235</td>\n",
       "      <td>-10.382222</td>\n",
       "      <td>9.529412</td>\n",
       "      <td>-20.160000</td>\n",
       "      <td>BOTTOM_TO_TOP</td>\n",
       "      <td>-0.000343</td>\n",
       "      <td>10738</td>\n",
       "      <td>12.72</td>\n",
       "      <td>-1.14</td>\n",
       "      <td>0.0</td>\n",
       "      <td>False</td>\n",
       "      <td>False</td>\n",
       "      <td>0.039297</td>\n",
       "    </tr>\n",
       "    <tr>\n",
       "      <th>33425</th>\n",
       "      <td>2</td>\n",
       "      <td>Netherland</td>\n",
       "      <td>116</td>\n",
       "      <td>3837</td>\n",
       "      <td>370</td>\n",
       "      <td>10738</td>\n",
       "      <td>9.529412</td>\n",
       "      <td>-2.113846</td>\n",
       "      <td>18.000000</td>\n",
       "      <td>0.704615</td>\n",
       "      <td>BOTTOM_TO_TOP</td>\n",
       "      <td>-0.002146</td>\n",
       "      <td>16320</td>\n",
       "      <td>19.93</td>\n",
       "      <td>3.50</td>\n",
       "      <td>0.0</td>\n",
       "      <td>False</td>\n",
       "      <td>False</td>\n",
       "      <td>0.465204</td>\n",
       "    </tr>\n",
       "    <tr>\n",
       "      <th>15913</th>\n",
       "      <td>1</td>\n",
       "      <td>Netherland</td>\n",
       "      <td>491458</td>\n",
       "      <td>24466</td>\n",
       "      <td>134102</td>\n",
       "      <td>7863</td>\n",
       "      <td>4.235294</td>\n",
       "      <td>-17.104444</td>\n",
       "      <td>-16.941176</td>\n",
       "      <td>-28.901053</td>\n",
       "      <td>TOP_TO_BOTTOM</td>\n",
       "      <td>-0.007856</td>\n",
       "      <td>946</td>\n",
       "      <td>-1.99</td>\n",
       "      <td>-10.04</td>\n",
       "      <td>0.0</td>\n",
       "      <td>False</td>\n",
       "      <td>False</td>\n",
       "      <td>0.061091</td>\n",
       "    </tr>\n",
       "    <tr>\n",
       "      <th>19877</th>\n",
       "      <td>1</td>\n",
       "      <td>France</td>\n",
       "      <td>352988</td>\n",
       "      <td>11516</td>\n",
       "      <td>344132</td>\n",
       "      <td>11606</td>\n",
       "      <td>14.823529</td>\n",
       "      <td>-7.046154</td>\n",
       "      <td>-5.294118</td>\n",
       "      <td>-29.629474</td>\n",
       "      <td>BOTTOM_TO_TOP</td>\n",
       "      <td>0.005184</td>\n",
       "      <td>3837</td>\n",
       "      <td>5.56</td>\n",
       "      <td>-11.78</td>\n",
       "      <td>0.0</td>\n",
       "      <td>False</td>\n",
       "      <td>False</td>\n",
       "      <td>0.461106</td>\n",
       "    </tr>\n",
       "    <tr>\n",
       "      <th>13676</th>\n",
       "      <td>1</td>\n",
       "      <td>Netherland</td>\n",
       "      <td>370</td>\n",
       "      <td>10738</td>\n",
       "      <td>491458</td>\n",
       "      <td>24466</td>\n",
       "      <td>18.000000</td>\n",
       "      <td>-25.258947</td>\n",
       "      <td>18.000000</td>\n",
       "      <td>9.771111</td>\n",
       "      <td>TOP_TO_BOTTOM</td>\n",
       "      <td>0.005359</td>\n",
       "      <td>6028</td>\n",
       "      <td>13.22</td>\n",
       "      <td>10.19</td>\n",
       "      <td>0.0</td>\n",
       "      <td>False</td>\n",
       "      <td>False</td>\n",
       "      <td>0.260084</td>\n",
       "    </tr>\n",
       "  </tbody>\n",
       "</table>\n",
       "</div>"
      ],
      "text/plain": [
       "       match.period     team.name  player.id.wyscout  player.id.skillcorner  \\\n",
       "frame                                                                         \n",
       "14301             1  France                   209117                    277   \n",
       "33425             2  Netherland                  116                   3837   \n",
       "15913             1  Netherland               491458                  24466   \n",
       "19877             1  France                   352988                  11516   \n",
       "13676             1  Netherland                  370                  10738   \n",
       "\n",
       "       pass.recipient.id.wyscout  pass.recipient.id.skillcorner  location.x  \\\n",
       "frame                                                                         \n",
       "14301                     352988                          11516   10.588235   \n",
       "33425                        370                          10738    9.529412   \n",
       "15913                     134102                           7863    4.235294   \n",
       "19877                     344132                          11606   14.823529   \n",
       "13676                     491458                          24466   18.000000   \n",
       "\n",
       "       location.y  pass.endLocation.x  pass.endLocation.y play_direction  \\\n",
       "frame                                                                      \n",
       "14301  -10.382222            9.529412          -20.160000  BOTTOM_TO_TOP   \n",
       "33425   -2.113846           18.000000            0.704615  BOTTOM_TO_TOP   \n",
       "15913  -17.104444          -16.941176          -28.901053  TOP_TO_BOTTOM   \n",
       "19877   -7.046154           -5.294118          -29.629474  BOTTOM_TO_TOP   \n",
       "13676  -25.258947           18.000000            9.771111  TOP_TO_BOTTOM   \n",
       "\n",
       "            dxt  tracking.object_id  tracking.x  tracking.y  tracking.z  \\\n",
       "frame                                                                     \n",
       "14301 -0.000343               10738       12.72       -1.14         0.0   \n",
       "33425 -0.002146               16320       19.93        3.50         0.0   \n",
       "15913 -0.007856                 946       -1.99      -10.04         0.0   \n",
       "19877  0.005184                3837        5.56      -11.78         0.0   \n",
       "13676  0.005359                6028       13.22       10.19         0.0   \n",
       "\n",
       "       tracking.is_self  tracking.is_teammate  responsibility  \n",
       "frame                                                          \n",
       "14301             False                 False        0.039297  \n",
       "33425             False                 False        0.465204  \n",
       "15913             False                 False        0.061091  \n",
       "19877             False                 False        0.461106  \n",
       "13676             False                 False        0.260084  "
      ]
     },
     "execution_count": 7,
     "metadata": {},
     "output_type": "execute_result"
    }
   ],
   "source": [
    "passes_df.sample(5)"
   ]
  },
  {
   "cell_type": "markdown",
   "metadata": {},
   "source": [
    "# Passes Network"
   ]
  },
  {
   "cell_type": "code",
   "execution_count": 8,
   "metadata": {
    "vscode": {
     "languageId": "ruby"
    }
   },
   "outputs": [],
   "source": [
    "column_mask = ['player.id.skillcorner', 'pass.recipient.id.skillcorner', 'location.x', 'location.y' , 'pass.endLocation.x', 'pass.endLocation.y', 'dxt', 'responsibility', 'match.period', 'team.name']\n",
    "group_column_mask = [col for col in column_mask if col != 'responsibility']\n",
    "passes_network = passes_df[column_mask].groupby(group_column_mask).agg({'responsibility': 'sum'}).reset_index()[column_mask]"
   ]
  },
  {
   "cell_type": "code",
   "execution_count": 9,
   "metadata": {
    "vscode": {
     "languageId": "ruby"
    }
   },
   "outputs": [
    {
     "data": {
      "text/html": [
       "<div>\n",
       "<style scoped>\n",
       "    .dataframe tbody tr th:only-of-type {\n",
       "        vertical-align: middle;\n",
       "    }\n",
       "\n",
       "    .dataframe tbody tr th {\n",
       "        vertical-align: top;\n",
       "    }\n",
       "\n",
       "    .dataframe thead th {\n",
       "        text-align: right;\n",
       "    }\n",
       "</style>\n",
       "<table border=\"1\" class=\"dataframe\">\n",
       "  <thead>\n",
       "    <tr style=\"text-align: right;\">\n",
       "      <th></th>\n",
       "      <th>player.id.skillcorner</th>\n",
       "      <th>pass.recipient.id.skillcorner</th>\n",
       "      <th>location.x</th>\n",
       "      <th>location.y</th>\n",
       "      <th>pass.endLocation.x</th>\n",
       "      <th>pass.endLocation.y</th>\n",
       "      <th>dxt</th>\n",
       "      <th>responsibility</th>\n",
       "      <th>match.period</th>\n",
       "      <th>team.name</th>\n",
       "    </tr>\n",
       "  </thead>\n",
       "  <tbody>\n",
       "    <tr>\n",
       "      <th>74</th>\n",
       "      <td>5922</td>\n",
       "      <td>12218</td>\n",
       "      <td>-37.833333</td>\n",
       "      <td>29.629474</td>\n",
       "      <td>-24.352941</td>\n",
       "      <td>23.073684</td>\n",
       "      <td>0.001109</td>\n",
       "      <td>1.243659</td>\n",
       "      <td>2</td>\n",
       "      <td>France</td>\n",
       "    </tr>\n",
       "    <tr>\n",
       "      <th>289</th>\n",
       "      <td>10738</td>\n",
       "      <td>24466</td>\n",
       "      <td>26.470588</td>\n",
       "      <td>-0.704615</td>\n",
       "      <td>22.235294</td>\n",
       "      <td>12.215556</td>\n",
       "      <td>-0.006741</td>\n",
       "      <td>0.136212</td>\n",
       "      <td>1</td>\n",
       "      <td>Netherland</td>\n",
       "    </tr>\n",
       "    <tr>\n",
       "      <th>576</th>\n",
       "      <td>31930</td>\n",
       "      <td>31930</td>\n",
       "      <td>-11.647059</td>\n",
       "      <td>-28.901053</td>\n",
       "      <td>-13.764706</td>\n",
       "      <td>-25.987368</td>\n",
       "      <td>-0.000309</td>\n",
       "      <td>1.269237</td>\n",
       "      <td>1</td>\n",
       "      <td>Netherland</td>\n",
       "    </tr>\n",
       "    <tr>\n",
       "      <th>197</th>\n",
       "      <td>10082</td>\n",
       "      <td>7017</td>\n",
       "      <td>-6.352941</td>\n",
       "      <td>20.160000</td>\n",
       "      <td>-3.176471</td>\n",
       "      <td>10.382222</td>\n",
       "      <td>-0.000640</td>\n",
       "      <td>0.326318</td>\n",
       "      <td>2</td>\n",
       "      <td>Netherland</td>\n",
       "    </tr>\n",
       "    <tr>\n",
       "      <th>129</th>\n",
       "      <td>7387</td>\n",
       "      <td>7863</td>\n",
       "      <td>-13.764706</td>\n",
       "      <td>-23.802105</td>\n",
       "      <td>-12.705882</td>\n",
       "      <td>-12.826667</td>\n",
       "      <td>0.000875</td>\n",
       "      <td>2.178083</td>\n",
       "      <td>1</td>\n",
       "      <td>Netherland</td>\n",
       "    </tr>\n",
       "  </tbody>\n",
       "</table>\n",
       "</div>"
      ],
      "text/plain": [
       "     player.id.skillcorner  pass.recipient.id.skillcorner  location.x  \\\n",
       "74                    5922                          12218  -37.833333   \n",
       "289                  10738                          24466   26.470588   \n",
       "576                  31930                          31930  -11.647059   \n",
       "197                  10082                           7017   -6.352941   \n",
       "129                   7387                           7863  -13.764706   \n",
       "\n",
       "     location.y  pass.endLocation.x  pass.endLocation.y       dxt  \\\n",
       "74    29.629474          -24.352941           23.073684  0.001109   \n",
       "289   -0.704615           22.235294           12.215556 -0.006741   \n",
       "576  -28.901053          -13.764706          -25.987368 -0.000309   \n",
       "197   20.160000           -3.176471           10.382222 -0.000640   \n",
       "129  -23.802105          -12.705882          -12.826667  0.000875   \n",
       "\n",
       "     responsibility  match.period     team.name  \n",
       "74         1.243659             2  France        \n",
       "289        0.136212             1  Netherland    \n",
       "576        1.269237             1  Netherland    \n",
       "197        0.326318             2  Netherland    \n",
       "129        2.178083             1  Netherland    "
      ]
     },
     "execution_count": 9,
     "metadata": {},
     "output_type": "execute_result"
    }
   ],
   "source": [
    "passes_network.sample(5)"
   ]
  },
  {
   "cell_type": "markdown",
   "metadata": {},
   "source": [
    "# Defender Responsibility Network"
   ]
  },
  {
   "cell_type": "code",
   "execution_count": 10,
   "metadata": {
    "vscode": {
     "languageId": "ruby"
    }
   },
   "outputs": [],
   "source": [
    "tracking_object_id = 11606\n",
    "\n",
    "player_passes_df = passes_df[passes_df['tracking.object_id'] == tracking_object_id]\n",
    "defender_responsibility_network = player_passes_df[player_passes_df['responsibility'] > 0]\n",
    "\n",
    "column_mask = ['player.id.skillcorner', 'pass.recipient.id.skillcorner', 'location.x', 'location.y' , 'pass.endLocation.x', 'pass.endLocation.y', 'dxt', 'responsibility', 'match.period', 'team.name']\n",
    "defender_responsibility_network = defender_responsibility_network[column_mask].reset_index(drop=True)"
   ]
  },
  {
   "cell_type": "code",
   "execution_count": 11,
   "metadata": {
    "vscode": {
     "languageId": "ruby"
    }
   },
   "outputs": [
    {
     "data": {
      "text/html": [
       "<div>\n",
       "<style scoped>\n",
       "    .dataframe tbody tr th:only-of-type {\n",
       "        vertical-align: middle;\n",
       "    }\n",
       "\n",
       "    .dataframe tbody tr th {\n",
       "        vertical-align: top;\n",
       "    }\n",
       "\n",
       "    .dataframe thead th {\n",
       "        text-align: right;\n",
       "    }\n",
       "</style>\n",
       "<table border=\"1\" class=\"dataframe\">\n",
       "  <thead>\n",
       "    <tr style=\"text-align: right;\">\n",
       "      <th></th>\n",
       "      <th>player.id.skillcorner</th>\n",
       "      <th>pass.recipient.id.skillcorner</th>\n",
       "      <th>location.x</th>\n",
       "      <th>location.y</th>\n",
       "      <th>pass.endLocation.x</th>\n",
       "      <th>pass.endLocation.y</th>\n",
       "      <th>dxt</th>\n",
       "      <th>responsibility</th>\n",
       "      <th>match.period</th>\n",
       "      <th>team.name</th>\n",
       "    </tr>\n",
       "  </thead>\n",
       "  <tbody>\n",
       "    <tr>\n",
       "      <th>17</th>\n",
       "      <td>24466</td>\n",
       "      <td>7387</td>\n",
       "      <td>49.750000</td>\n",
       "      <td>25.987368</td>\n",
       "      <td>8.470588</td>\n",
       "      <td>25.258947</td>\n",
       "      <td>-0.063852</td>\n",
       "      <td>0.626318</td>\n",
       "      <td>1</td>\n",
       "      <td>Netherland</td>\n",
       "    </tr>\n",
       "    <tr>\n",
       "      <th>16</th>\n",
       "      <td>3837</td>\n",
       "      <td>7387</td>\n",
       "      <td>-36.000000</td>\n",
       "      <td>12.826667</td>\n",
       "      <td>-40.583333</td>\n",
       "      <td>15.271111</td>\n",
       "      <td>-0.000247</td>\n",
       "      <td>0.571114</td>\n",
       "      <td>1</td>\n",
       "      <td>Netherland</td>\n",
       "    </tr>\n",
       "    <tr>\n",
       "      <th>12</th>\n",
       "      <td>3837</td>\n",
       "      <td>7017</td>\n",
       "      <td>-3.176471</td>\n",
       "      <td>20.888421</td>\n",
       "      <td>5.294118</td>\n",
       "      <td>18.326667</td>\n",
       "      <td>0.004011</td>\n",
       "      <td>0.089933</td>\n",
       "      <td>1</td>\n",
       "      <td>Netherland</td>\n",
       "    </tr>\n",
       "    <tr>\n",
       "      <th>11</th>\n",
       "      <td>7017</td>\n",
       "      <td>3837</td>\n",
       "      <td>7.411765</td>\n",
       "      <td>20.888421</td>\n",
       "      <td>-3.176471</td>\n",
       "      <td>20.888421</td>\n",
       "      <td>-0.004749</td>\n",
       "      <td>0.022303</td>\n",
       "      <td>1</td>\n",
       "      <td>Netherland</td>\n",
       "    </tr>\n",
       "    <tr>\n",
       "      <th>40</th>\n",
       "      <td>24466</td>\n",
       "      <td>10082</td>\n",
       "      <td>-5.294118</td>\n",
       "      <td>23.073684</td>\n",
       "      <td>-21.176471</td>\n",
       "      <td>31.086316</td>\n",
       "      <td>-0.003824</td>\n",
       "      <td>0.065480</td>\n",
       "      <td>1</td>\n",
       "      <td>Netherland</td>\n",
       "    </tr>\n",
       "  </tbody>\n",
       "</table>\n",
       "</div>"
      ],
      "text/plain": [
       "    player.id.skillcorner  pass.recipient.id.skillcorner  location.x  \\\n",
       "17                  24466                           7387   49.750000   \n",
       "16                   3837                           7387  -36.000000   \n",
       "12                   3837                           7017   -3.176471   \n",
       "11                   7017                           3837    7.411765   \n",
       "40                  24466                          10082   -5.294118   \n",
       "\n",
       "    location.y  pass.endLocation.x  pass.endLocation.y       dxt  \\\n",
       "17   25.987368            8.470588           25.258947 -0.063852   \n",
       "16   12.826667          -40.583333           15.271111 -0.000247   \n",
       "12   20.888421            5.294118           18.326667  0.004011   \n",
       "11   20.888421           -3.176471           20.888421 -0.004749   \n",
       "40   23.073684          -21.176471           31.086316 -0.003824   \n",
       "\n",
       "    responsibility  match.period     team.name  \n",
       "17        0.626318             1  Netherland    \n",
       "16        0.571114             1  Netherland    \n",
       "12        0.089933             1  Netherland    \n",
       "11        0.022303             1  Netherland    \n",
       "40        0.065480             1  Netherland    "
      ]
     },
     "execution_count": 11,
     "metadata": {},
     "output_type": "execute_result"
    }
   ],
   "source": [
    "defender_responsibility_network.sample(5)"
   ]
  },
  {
   "cell_type": "markdown",
   "metadata": {},
   "source": [
    "# Aggregate Statistics for each Defender"
   ]
  },
  {
   "cell_type": "code",
   "execution_count": 12,
   "metadata": {
    "vscode": {
     "languageId": "ruby"
    }
   },
   "outputs": [
    {
     "data": {
      "text/html": [
       "<div>\n",
       "<style scoped>\n",
       "    .dataframe tbody tr th:only-of-type {\n",
       "        vertical-align: middle;\n",
       "    }\n",
       "\n",
       "    .dataframe tbody tr th {\n",
       "        vertical-align: top;\n",
       "    }\n",
       "\n",
       "    .dataframe thead th {\n",
       "        text-align: right;\n",
       "    }\n",
       "</style>\n",
       "<table border=\"1\" class=\"dataframe\">\n",
       "  <thead>\n",
       "    <tr style=\"text-align: right;\">\n",
       "      <th></th>\n",
       "      <th>tracking.object_id</th>\n",
       "      <th>average_responsibility</th>\n",
       "      <th>average_dxt</th>\n",
       "      <th>group_size</th>\n",
       "    </tr>\n",
       "  </thead>\n",
       "  <tbody>\n",
       "    <tr>\n",
       "      <th>31</th>\n",
       "      <td>33512</td>\n",
       "      <td>0.253309</td>\n",
       "      <td>0.005026</td>\n",
       "      <td>15</td>\n",
       "    </tr>\n",
       "    <tr>\n",
       "      <th>26</th>\n",
       "      <td>16320</td>\n",
       "      <td>0.273005</td>\n",
       "      <td>0.000230</td>\n",
       "      <td>62</td>\n",
       "    </tr>\n",
       "    <tr>\n",
       "      <th>25</th>\n",
       "      <td>14407</td>\n",
       "      <td>0.296403</td>\n",
       "      <td>-0.003915</td>\n",
       "      <td>33</td>\n",
       "    </tr>\n",
       "    <tr>\n",
       "      <th>15</th>\n",
       "      <td>10916</td>\n",
       "      <td>0.369854</td>\n",
       "      <td>-0.000709</td>\n",
       "      <td>66</td>\n",
       "    </tr>\n",
       "    <tr>\n",
       "      <th>4</th>\n",
       "      <td>3837</td>\n",
       "      <td>0.365994</td>\n",
       "      <td>-0.004813</td>\n",
       "      <td>42</td>\n",
       "    </tr>\n",
       "  </tbody>\n",
       "</table>\n",
       "</div>"
      ],
      "text/plain": [
       "    tracking.object_id  average_responsibility  average_dxt  group_size\n",
       "31               33512                0.253309     0.005026          15\n",
       "26               16320                0.273005     0.000230          62\n",
       "25               14407                0.296403    -0.003915          33\n",
       "15               10916                0.369854    -0.000709          66\n",
       "4                 3837                0.365994    -0.004813          42"
      ]
     },
     "execution_count": 12,
     "metadata": {},
     "output_type": "execute_result"
    }
   ],
   "source": [
    "defender_stats = passes_df.groupby('tracking.object_id').agg(\n",
    "    average_responsibility=('responsibility', 'mean'),\n",
    "    average_dxt=('dxt', 'mean'),\n",
    "    group_size=('responsibility', 'size')\n",
    ").reset_index()\n",
    "\n",
    "defender_stats.sample(5)"
   ]
  },
  {
   "cell_type": "markdown",
   "metadata": {},
   "source": [
    "# Defender Dyads"
   ]
  },
  {
   "cell_type": "code",
   "execution_count": 13,
   "metadata": {
    "vscode": {
     "languageId": "ruby"
    }
   },
   "outputs": [],
   "source": [
    "passes_df_cp = passes_df.reset_index()\n",
    "pass_filt_df = passes_df_cp.groupby('frame').filter(lambda x: len(x) >= 2)\n",
    "\n",
    "relevant_cols = ['frame', 'tracking.object_id_x', 'tracking.object_id_y',  'dxt_x', 'responsibility_x', 'responsibility_y']\n",
    "joint_df = pass_filt_df.merge(pass_filt_df, on=['frame'])[relevant_cols]\n",
    "joint_df = joint_df[joint_df['tracking.object_id_x'] < joint_df['tracking.object_id_y']]\n",
    "joint_df['joint_resp'] = joint_df['responsibility_x'] + joint_df['responsibility_y']\n",
    "joint_df.rename(columns={'dxt_x': 'dxt'}, inplace=True)"
   ]
  },
  {
   "cell_type": "code",
   "execution_count": 14,
   "metadata": {
    "vscode": {
     "languageId": "ruby"
    }
   },
   "outputs": [],
   "source": [
    "columns_joint_group = ['frame', 'tracking.player.id.skillcorner_x', 'tracking.player.id.skillcorner_y', 'joint_resp']\n",
    "\n",
    "defender_dyads_network = joint_df.groupby(['tracking.object_id_x', 'tracking.object_id_y']).agg(\n",
    "    joint_responsibility_mean=('joint_resp', 'mean'),\n",
    "    joint_responsibility_sum=('joint_resp', 'sum'),\n",
    "    group_size=('joint_resp', 'size')\n",
    "    ).reset_index()"
   ]
  },
  {
   "cell_type": "code",
   "execution_count": 15,
   "metadata": {
    "vscode": {
     "languageId": "ruby"
    }
   },
   "outputs": [
    {
     "data": {
      "text/html": [
       "<div>\n",
       "<style scoped>\n",
       "    .dataframe tbody tr th:only-of-type {\n",
       "        vertical-align: middle;\n",
       "    }\n",
       "\n",
       "    .dataframe tbody tr th {\n",
       "        vertical-align: top;\n",
       "    }\n",
       "\n",
       "    .dataframe thead th {\n",
       "        text-align: right;\n",
       "    }\n",
       "</style>\n",
       "<table border=\"1\" class=\"dataframe\">\n",
       "  <thead>\n",
       "    <tr style=\"text-align: right;\">\n",
       "      <th></th>\n",
       "      <th>tracking.object_id_x</th>\n",
       "      <th>tracking.object_id_y</th>\n",
       "      <th>joint_responsibility_mean</th>\n",
       "      <th>joint_responsibility_sum</th>\n",
       "      <th>group_size</th>\n",
       "    </tr>\n",
       "  </thead>\n",
       "  <tbody>\n",
       "    <tr>\n",
       "      <th>3</th>\n",
       "      <td>277</td>\n",
       "      <td>7604</td>\n",
       "      <td>0.561440</td>\n",
       "      <td>2.245759</td>\n",
       "      <td>4</td>\n",
       "    </tr>\n",
       "    <tr>\n",
       "      <th>125</th>\n",
       "      <td>10916</td>\n",
       "      <td>31930</td>\n",
       "      <td>0.696419</td>\n",
       "      <td>12.535543</td>\n",
       "      <td>18</td>\n",
       "    </tr>\n",
       "    <tr>\n",
       "      <th>18</th>\n",
       "      <td>946</td>\n",
       "      <td>11606</td>\n",
       "      <td>0.627012</td>\n",
       "      <td>6.897129</td>\n",
       "      <td>11</td>\n",
       "    </tr>\n",
       "    <tr>\n",
       "      <th>130</th>\n",
       "      <td>11516</td>\n",
       "      <td>12229</td>\n",
       "      <td>0.784254</td>\n",
       "      <td>3.137017</td>\n",
       "      <td>4</td>\n",
       "    </tr>\n",
       "    <tr>\n",
       "      <th>64</th>\n",
       "      <td>6028</td>\n",
       "      <td>11516</td>\n",
       "      <td>0.537367</td>\n",
       "      <td>3.761572</td>\n",
       "      <td>7</td>\n",
       "    </tr>\n",
       "  </tbody>\n",
       "</table>\n",
       "</div>"
      ],
      "text/plain": [
       "     tracking.object_id_x  tracking.object_id_y  joint_responsibility_mean  \\\n",
       "3                     277                  7604                   0.561440   \n",
       "125                 10916                 31930                   0.696419   \n",
       "18                    946                 11606                   0.627012   \n",
       "130                 11516                 12229                   0.784254   \n",
       "64                   6028                 11516                   0.537367   \n",
       "\n",
       "     joint_responsibility_sum  group_size  \n",
       "3                    2.245759           4  \n",
       "125                 12.535543          18  \n",
       "18                   6.897129          11  \n",
       "130                  3.137017           4  \n",
       "64                   3.761572           7  "
      ]
     },
     "execution_count": 15,
     "metadata": {},
     "output_type": "execute_result"
    }
   ],
   "source": [
    "defender_dyads_network.sample(5)"
   ]
  }
 ],
 "metadata": {
  "kernelspec": {
   "display_name": "fball-analytics",
   "language": "python",
   "name": "python3"
  },
  "language_info": {
   "codemirror_mode": {
    "name": "ipython",
    "version": 3
   },
   "file_extension": ".py",
   "mimetype": "text/x-python",
   "name": "python",
   "nbconvert_exporter": "python",
   "pygments_lexer": "ipython3",
   "version": "3.10.15"
  }
 },
 "nbformat": 4,
 "nbformat_minor": 2
}
