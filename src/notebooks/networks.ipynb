{
 "cells": [
  {
   "cell_type": "code",
   "execution_count": 1,
   "metadata": {},
   "outputs": [],
   "source": [
    "import pandas as pd\n",
    "import numpy as np\n",
    "\n",
    "import sys\n",
    "sys.path.append('../')\n",
    "from utils import *\n",
    "\n",
    "pd.set_option('display.max_columns', None)"
   ]
  },
  {
   "cell_type": "code",
   "execution_count": 2,
   "metadata": {
    "vscode": {
     "languageId": "ruby"
    }
   },
   "outputs": [],
   "source": [
    "DATA_PATH = '../../data/'\n",
    "PASSES_DF_PATH = DATA_PATH + 'passes_resp_df.pkl'\n",
    "WYSCOUT_PATH = DATA_PATH + 'wyscout/'\n",
    "SKILLCORNER_PATH = DATA_PATH + 'skillcorner/'\n",
    "MATCH_IDS_PATH = DATA_PATH + 'matchids.csv'\n",
    "XT_PLOT_PATH = DATA_PATH + 'smoothed_xt.csv'"
   ]
  },
  {
   "cell_type": "markdown",
   "metadata": {},
   "source": [
    "# Passes Network"
   ]
  },
  {
   "cell_type": "code",
   "execution_count": 3,
   "metadata": {
    "vscode": {
     "languageId": "ruby"
    }
   },
   "outputs": [],
   "source": [
    "passes_resp_df = pd.read_pickle(PASSES_DF_PATH)"
   ]
  },
  {
   "cell_type": "code",
   "execution_count": 4,
   "metadata": {
    "vscode": {
     "languageId": "ruby"
    }
   },
   "outputs": [],
   "source": [
    "match_info = pd.read_csv(MATCH_IDS_PATH)\n",
    "match_info = match_info.dropna(subset=['wyscout', 'skillcorner'])\n",
    "match_info['skillcorner'] = match_info['skillcorner'].astype(int)\n",
    "\n",
    "wyscout_id = match_info['wyscout'].values[0]\n",
    "skillcorner_id = match_info['skillcorner'].values[0]\n",
    "\n",
    "metadata = pd.read_csv(SKILLCORNER_PATH + str(skillcorner_id) + \"_metadata.csv\")\n",
    "tracking_df = pd.read_csv(SKILLCORNER_PATH + str(skillcorner_id) + \"_tracking.csv\")\n",
    "lineup_df = pd.read_csv(SKILLCORNER_PATH + str(skillcorner_id) + \"_lineup.csv\")"
   ]
  },
  {
   "cell_type": "code",
   "execution_count": 5,
   "metadata": {},
   "outputs": [],
   "source": [
    "lineup_df = lineup_df[['player_id', 'player_position']].rename(columns={'player_id': 'tracking.player.id.skillcorner', 'player_position': 'tracking.player_position'})\n",
    "lineup_df['tracking.player_position'].unique()\n",
    "\n",
    "passes_resp_df_aug = passes_resp_df.merge(lineup_df, how='left')\n",
    "\n",
    "# assert that every player has a matching entry in lineup_df\n",
    "assert len(passes_resp_df) == len(passes_resp_df_aug)"
   ]
  },
  {
   "cell_type": "code",
   "execution_count": 6,
   "metadata": {
    "vscode": {
     "languageId": "ruby"
    }
   },
   "outputs": [],
   "source": [
    "defender_positions = ['Right Wing Back', 'Right Center Back', 'Left Center Back', 'Left Wing Back']"
   ]
  },
  {
   "cell_type": "markdown",
   "metadata": {},
   "source": [
    "Keep only players of the opposing team, who are defenders with responsibility greater than 0."
   ]
  },
  {
   "cell_type": "code",
   "execution_count": 7,
   "metadata": {
    "vscode": {
     "languageId": "ruby"
    }
   },
   "outputs": [],
   "source": [
    "passes_resp_df_aug = passes_resp_df_aug[~passes_resp_df_aug['tracking.is_teammate']]\n",
    "passes_resp_df_aug = passes_resp_df_aug[passes_resp_df_aug['responsibility'] > 0]\n",
    "df_resp_def = passes_resp_df_aug[passes_resp_df_aug['tracking.player_position'].isin(defender_positions)]"
   ]
  },
  {
   "cell_type": "markdown",
   "metadata": {},
   "source": [
    "# Passes Network"
   ]
  },
  {
   "cell_type": "code",
   "execution_count": 8,
   "metadata": {
    "vscode": {
     "languageId": "ruby"
    }
   },
   "outputs": [
    {
     "data": {
      "text/html": [
       "<div>\n",
       "<style scoped>\n",
       "    .dataframe tbody tr th:only-of-type {\n",
       "        vertical-align: middle;\n",
       "    }\n",
       "\n",
       "    .dataframe tbody tr th {\n",
       "        vertical-align: top;\n",
       "    }\n",
       "\n",
       "    .dataframe thead th {\n",
       "        text-align: right;\n",
       "    }\n",
       "</style>\n",
       "<table border=\"1\" class=\"dataframe\">\n",
       "  <thead>\n",
       "    <tr style=\"text-align: right;\">\n",
       "      <th></th>\n",
       "      <th>matchId</th>\n",
       "      <th>timestamp</th>\n",
       "      <th>period</th>\n",
       "      <th>player.id.skillcorner</th>\n",
       "      <th>location.x</th>\n",
       "      <th>location.y</th>\n",
       "      <th>pass.recipient.id.skillcorner</th>\n",
       "      <th>pass.endLocation.x</th>\n",
       "      <th>pass.endLocation.y</th>\n",
       "      <th>dxt</th>\n",
       "      <th>responsibility</th>\n",
       "    </tr>\n",
       "  </thead>\n",
       "  <tbody>\n",
       "    <tr>\n",
       "      <th>3</th>\n",
       "      <td>5414111</td>\n",
       "      <td>00:00:13.200000</td>\n",
       "      <td>1</td>\n",
       "      <td>10738</td>\n",
       "      <td>26.470588</td>\n",
       "      <td>-14.660000</td>\n",
       "      <td>14407</td>\n",
       "      <td>26.470588</td>\n",
       "      <td>0.704615</td>\n",
       "      <td>0.000147</td>\n",
       "      <td>1.374416</td>\n",
       "    </tr>\n",
       "    <tr>\n",
       "      <th>6</th>\n",
       "      <td>5414111</td>\n",
       "      <td>00:00:23.500000</td>\n",
       "      <td>1</td>\n",
       "      <td>4777</td>\n",
       "      <td>37.833333</td>\n",
       "      <td>-7.046154</td>\n",
       "      <td>10738</td>\n",
       "      <td>30.705882</td>\n",
       "      <td>-14.048889</td>\n",
       "      <td>0.000245</td>\n",
       "      <td>0.308272</td>\n",
       "    </tr>\n",
       "    <tr>\n",
       "      <th>141</th>\n",
       "      <td>5414111</td>\n",
       "      <td>00:15:43.600000</td>\n",
       "      <td>1</td>\n",
       "      <td>7863</td>\n",
       "      <td>6.352941</td>\n",
       "      <td>-31.814737</td>\n",
       "      <td>33512</td>\n",
       "      <td>6.352941</td>\n",
       "      <td>-21.616842</td>\n",
       "      <td>0.001000</td>\n",
       "      <td>0.897997</td>\n",
       "    </tr>\n",
       "    <tr>\n",
       "      <th>90</th>\n",
       "      <td>5414111</td>\n",
       "      <td>00:11:50.800000</td>\n",
       "      <td>1</td>\n",
       "      <td>16320</td>\n",
       "      <td>14.823529</td>\n",
       "      <td>14.660000</td>\n",
       "      <td>5922</td>\n",
       "      <td>-6.352941</td>\n",
       "      <td>28.172632</td>\n",
       "      <td>0.005677</td>\n",
       "      <td>0.695482</td>\n",
       "    </tr>\n",
       "    <tr>\n",
       "      <th>491</th>\n",
       "      <td>5414111</td>\n",
       "      <td>01:31:33.900000</td>\n",
       "      <td>2</td>\n",
       "      <td>3837</td>\n",
       "      <td>-7.411765</td>\n",
       "      <td>7.750769</td>\n",
       "      <td>12654</td>\n",
       "      <td>-19.058824</td>\n",
       "      <td>15.882222</td>\n",
       "      <td>0.012049</td>\n",
       "      <td>0.278905</td>\n",
       "    </tr>\n",
       "  </tbody>\n",
       "</table>\n",
       "</div>"
      ],
      "text/plain": [
       "     matchId        timestamp  period  player.id.skillcorner  location.x  \\\n",
       "3    5414111  00:00:13.200000       1                  10738   26.470588   \n",
       "6    5414111  00:00:23.500000       1                   4777   37.833333   \n",
       "141  5414111  00:15:43.600000       1                   7863    6.352941   \n",
       "90   5414111  00:11:50.800000       1                  16320   14.823529   \n",
       "491  5414111  01:31:33.900000       2                   3837   -7.411765   \n",
       "\n",
       "     location.y  pass.recipient.id.skillcorner  pass.endLocation.x  \\\n",
       "3    -14.660000                          14407           26.470588   \n",
       "6     -7.046154                          10738           30.705882   \n",
       "141  -31.814737                          33512            6.352941   \n",
       "90    14.660000                           5922           -6.352941   \n",
       "491    7.750769                          12654          -19.058824   \n",
       "\n",
       "     pass.endLocation.y       dxt  responsibility  \n",
       "3              0.704615  0.000147        1.374416  \n",
       "6            -14.048889  0.000245        0.308272  \n",
       "141          -21.616842  0.001000        0.897997  \n",
       "90            28.172632  0.005677        0.695482  \n",
       "491           15.882222  0.012049        0.278905  "
      ]
     },
     "execution_count": 8,
     "metadata": {},
     "output_type": "execute_result"
    }
   ],
   "source": [
    "column_mask = ['matchId', 'timestamp', 'period', 'player.id.skillcorner', 'location.x', 'location.y', 'pass.recipient.id.skillcorner', 'pass.endLocation.x', 'pass.endLocation.y', 'dxt', 'responsibility']\n",
    "group_column_mask = [col for col in column_mask if col != 'responsibility']\n",
    "passes_network = df_resp_def[column_mask].groupby(group_column_mask).agg({'responsibility': 'sum'}).reset_index()\n",
    "passes_network.sample(5)"
   ]
  },
  {
   "cell_type": "markdown",
   "metadata": {},
   "source": [
    "# Defender Responsibility Network"
   ]
  },
  {
   "cell_type": "code",
   "execution_count": 9,
   "metadata": {
    "vscode": {
     "languageId": "ruby"
    }
   },
   "outputs": [],
   "source": [
    "# filter only relevant columns\n",
    "columns_subnet = ['matchId', 'timestamp', 'period', 'tracking.player.id.skillcorner', 'tracking.x', 'tracking.y', 'responsibility', 'dxt']\n",
    "columns_subnet_group = ['tracking.player.id.skillcorner', 'tracking.player_first_name', 'tracking.player_last_name', 'tracking.player_position', 'tracking.team_name']\n",
    "\n",
    "defender_responsibility_network = df_resp_def[columns_subnet]"
   ]
  },
  {
   "cell_type": "code",
   "execution_count": 10,
   "metadata": {
    "vscode": {
     "languageId": "ruby"
    }
   },
   "outputs": [
    {
     "data": {
      "text/html": [
       "<div>\n",
       "<style scoped>\n",
       "    .dataframe tbody tr th:only-of-type {\n",
       "        vertical-align: middle;\n",
       "    }\n",
       "\n",
       "    .dataframe tbody tr th {\n",
       "        vertical-align: top;\n",
       "    }\n",
       "\n",
       "    .dataframe thead th {\n",
       "        text-align: right;\n",
       "    }\n",
       "</style>\n",
       "<table border=\"1\" class=\"dataframe\">\n",
       "  <thead>\n",
       "    <tr style=\"text-align: right;\">\n",
       "      <th></th>\n",
       "      <th>matchId</th>\n",
       "      <th>timestamp</th>\n",
       "      <th>period</th>\n",
       "      <th>tracking.player.id.skillcorner</th>\n",
       "      <th>tracking.x</th>\n",
       "      <th>tracking.y</th>\n",
       "      <th>responsibility</th>\n",
       "      <th>dxt</th>\n",
       "    </tr>\n",
       "  </thead>\n",
       "  <tbody>\n",
       "    <tr>\n",
       "      <th>387</th>\n",
       "      <td>5414111</td>\n",
       "      <td>00:01:02.400000</td>\n",
       "      <td>1</td>\n",
       "      <td>10738</td>\n",
       "      <td>26.84</td>\n",
       "      <td>-11.56</td>\n",
       "      <td>0.681976</td>\n",
       "      <td>0.002475</td>\n",
       "    </tr>\n",
       "    <tr>\n",
       "      <th>18384</th>\n",
       "      <td>5414111</td>\n",
       "      <td>01:24:08.000000</td>\n",
       "      <td>2</td>\n",
       "      <td>11630</td>\n",
       "      <td>18.77</td>\n",
       "      <td>11.24</td>\n",
       "      <td>0.591013</td>\n",
       "      <td>-0.002425</td>\n",
       "    </tr>\n",
       "    <tr>\n",
       "      <th>18869</th>\n",
       "      <td>5414111</td>\n",
       "      <td>01:29:06.200000</td>\n",
       "      <td>2</td>\n",
       "      <td>11606</td>\n",
       "      <td>15.85</td>\n",
       "      <td>-12.29</td>\n",
       "      <td>0.876565</td>\n",
       "      <td>0.001866</td>\n",
       "    </tr>\n",
       "    <tr>\n",
       "      <th>16327</th>\n",
       "      <td>5414111</td>\n",
       "      <td>01:12:54.600000</td>\n",
       "      <td>2</td>\n",
       "      <td>14407</td>\n",
       "      <td>-2.17</td>\n",
       "      <td>-7.58</td>\n",
       "      <td>0.834541</td>\n",
       "      <td>-0.002896</td>\n",
       "    </tr>\n",
       "    <tr>\n",
       "      <th>3235</th>\n",
       "      <td>5414111</td>\n",
       "      <td>00:13:37.100000</td>\n",
       "      <td>1</td>\n",
       "      <td>16320</td>\n",
       "      <td>-23.49</td>\n",
       "      <td>-21.88</td>\n",
       "      <td>0.043391</td>\n",
       "      <td>-0.015362</td>\n",
       "    </tr>\n",
       "  </tbody>\n",
       "</table>\n",
       "</div>"
      ],
      "text/plain": [
       "       matchId        timestamp  period  tracking.player.id.skillcorner  \\\n",
       "387    5414111  00:01:02.400000       1                           10738   \n",
       "18384  5414111  01:24:08.000000       2                           11630   \n",
       "18869  5414111  01:29:06.200000       2                           11606   \n",
       "16327  5414111  01:12:54.600000       2                           14407   \n",
       "3235   5414111  00:13:37.100000       1                           16320   \n",
       "\n",
       "       tracking.x  tracking.y  responsibility       dxt  \n",
       "387         26.84      -11.56        0.681976  0.002475  \n",
       "18384       18.77       11.24        0.591013 -0.002425  \n",
       "18869       15.85      -12.29        0.876565  0.001866  \n",
       "16327       -2.17       -7.58        0.834541 -0.002896  \n",
       "3235       -23.49      -21.88        0.043391 -0.015362  "
      ]
     },
     "execution_count": 10,
     "metadata": {},
     "output_type": "execute_result"
    }
   ],
   "source": [
    "defender_responsibility_network.sample(5)"
   ]
  },
  {
   "cell_type": "markdown",
   "metadata": {},
   "source": [
    "# Aggregate Statistics for each Defender"
   ]
  },
  {
   "cell_type": "code",
   "execution_count": 11,
   "metadata": {
    "vscode": {
     "languageId": "ruby"
    }
   },
   "outputs": [
    {
     "data": {
      "text/html": [
       "<div>\n",
       "<style scoped>\n",
       "    .dataframe tbody tr th:only-of-type {\n",
       "        vertical-align: middle;\n",
       "    }\n",
       "\n",
       "    .dataframe tbody tr th {\n",
       "        vertical-align: top;\n",
       "    }\n",
       "\n",
       "    .dataframe thead th {\n",
       "        text-align: right;\n",
       "    }\n",
       "</style>\n",
       "<table border=\"1\" class=\"dataframe\">\n",
       "  <thead>\n",
       "    <tr style=\"text-align: right;\">\n",
       "      <th></th>\n",
       "      <th>tracking.player.id.skillcorner</th>\n",
       "      <th>tracking.player_first_name</th>\n",
       "      <th>tracking.player_last_name</th>\n",
       "      <th>tracking.player_position</th>\n",
       "      <th>tracking.team_name</th>\n",
       "      <th>average_responsibility</th>\n",
       "      <th>group_size</th>\n",
       "    </tr>\n",
       "  </thead>\n",
       "  <tbody>\n",
       "    <tr>\n",
       "      <th>0</th>\n",
       "      <td>7863</td>\n",
       "      <td>Nathan</td>\n",
       "      <td>Aké</td>\n",
       "      <td>Left Wing Back</td>\n",
       "      <td>Netherland</td>\n",
       "      <td>0.547378</td>\n",
       "      <td>164</td>\n",
       "    </tr>\n",
       "    <tr>\n",
       "      <th>1</th>\n",
       "      <td>10738</td>\n",
       "      <td>Virgil</td>\n",
       "      <td>van Dijk</td>\n",
       "      <td>Left Center Back</td>\n",
       "      <td>Netherland</td>\n",
       "      <td>0.594165</td>\n",
       "      <td>179</td>\n",
       "    </tr>\n",
       "    <tr>\n",
       "      <th>2</th>\n",
       "      <td>11516</td>\n",
       "      <td>Dayot</td>\n",
       "      <td>Upamecano</td>\n",
       "      <td>Left Center Back</td>\n",
       "      <td>France</td>\n",
       "      <td>0.450860</td>\n",
       "      <td>47</td>\n",
       "    </tr>\n",
       "    <tr>\n",
       "      <th>3</th>\n",
       "      <td>11606</td>\n",
       "      <td>Theo</td>\n",
       "      <td>Hernández</td>\n",
       "      <td>Left Wing Back</td>\n",
       "      <td>France</td>\n",
       "      <td>0.488114</td>\n",
       "      <td>65</td>\n",
       "    </tr>\n",
       "    <tr>\n",
       "      <th>4</th>\n",
       "      <td>11630</td>\n",
       "      <td>Jules</td>\n",
       "      <td>Koundé</td>\n",
       "      <td>Right Wing Back</td>\n",
       "      <td>France</td>\n",
       "      <td>0.522956</td>\n",
       "      <td>70</td>\n",
       "    </tr>\n",
       "    <tr>\n",
       "      <th>5</th>\n",
       "      <td>14397</td>\n",
       "      <td>Tyrell</td>\n",
       "      <td>Malacia</td>\n",
       "      <td>Right Wing Back</td>\n",
       "      <td>Netherland</td>\n",
       "      <td>0.490315</td>\n",
       "      <td>8</td>\n",
       "    </tr>\n",
       "    <tr>\n",
       "      <th>6</th>\n",
       "      <td>14407</td>\n",
       "      <td>Lutsharel</td>\n",
       "      <td>Geertruida</td>\n",
       "      <td>Right Center Back</td>\n",
       "      <td>Netherland</td>\n",
       "      <td>0.521522</td>\n",
       "      <td>167</td>\n",
       "    </tr>\n",
       "    <tr>\n",
       "      <th>7</th>\n",
       "      <td>16320</td>\n",
       "      <td>Ibrahima</td>\n",
       "      <td>Konaté</td>\n",
       "      <td>Right Center Back</td>\n",
       "      <td>France</td>\n",
       "      <td>0.383661</td>\n",
       "      <td>62</td>\n",
       "    </tr>\n",
       "    <tr>\n",
       "      <th>8</th>\n",
       "      <td>24466</td>\n",
       "      <td>Jurriën</td>\n",
       "      <td>Timber Maduro</td>\n",
       "      <td>Right Wing Back</td>\n",
       "      <td>Netherland</td>\n",
       "      <td>0.506239</td>\n",
       "      <td>145</td>\n",
       "    </tr>\n",
       "  </tbody>\n",
       "</table>\n",
       "</div>"
      ],
      "text/plain": [
       "   tracking.player.id.skillcorner tracking.player_first_name  \\\n",
       "0                            7863                     Nathan   \n",
       "1                           10738                     Virgil   \n",
       "2                           11516                      Dayot   \n",
       "3                           11606                       Theo   \n",
       "4                           11630                      Jules   \n",
       "5                           14397                     Tyrell   \n",
       "6                           14407                  Lutsharel   \n",
       "7                           16320                   Ibrahima   \n",
       "8                           24466                    Jurriën   \n",
       "\n",
       "  tracking.player_last_name tracking.player_position tracking.team_name  \\\n",
       "0                       Aké           Left Wing Back         Netherland   \n",
       "1                  van Dijk         Left Center Back         Netherland   \n",
       "2                 Upamecano         Left Center Back             France   \n",
       "3                 Hernández           Left Wing Back             France   \n",
       "4                    Koundé          Right Wing Back             France   \n",
       "5                   Malacia          Right Wing Back         Netherland   \n",
       "6                Geertruida        Right Center Back         Netherland   \n",
       "7                    Konaté        Right Center Back             France   \n",
       "8             Timber Maduro          Right Wing Back         Netherland   \n",
       "\n",
       "   average_responsibility  group_size  \n",
       "0                0.547378         164  \n",
       "1                0.594165         179  \n",
       "2                0.450860          47  \n",
       "3                0.488114          65  \n",
       "4                0.522956          70  \n",
       "5                0.490315           8  \n",
       "6                0.521522         167  \n",
       "7                0.383661          62  \n",
       "8                0.506239         145  "
      ]
     },
     "execution_count": 11,
     "metadata": {},
     "output_type": "execute_result"
    }
   ],
   "source": [
    "df_resp_def_subnet = \\\n",
    "df_resp_def.groupby(columns_subnet_group).agg(\n",
    "    average_responsibility=('responsibility', 'mean'),\n",
    "    group_size=('responsibility', 'size')\n",
    ").reset_index()\n",
    "\n",
    "df_resp_def_subnet.head(10)"
   ]
  },
  {
   "cell_type": "markdown",
   "metadata": {},
   "source": [
    "## Defender Dyads"
   ]
  },
  {
   "cell_type": "code",
   "execution_count": 12,
   "metadata": {
    "vscode": {
     "languageId": "ruby"
    }
   },
   "outputs": [],
   "source": [
    "groupby_cols = ['timestamp', 'period']\n",
    "filtered_df_resp_def = df_resp_def.groupby(groupby_cols).filter(lambda x: len(x) >= 2)\n",
    "df_groups = filtered_df_resp_def.groupby(groupby_cols)"
   ]
  },
  {
   "cell_type": "code",
   "execution_count": 13,
   "metadata": {
    "vscode": {
     "languageId": "ruby"
    }
   },
   "outputs": [],
   "source": [
    "relevant_cols = ['timestamp', 'period', 'tracking.player.id.skillcorner_x', 'tracking.player.id.skillcorner_y', 'responsibility_x', 'responsibility_y']\n",
    "df_resp_def_joint = filtered_df_resp_def.merge(filtered_df_resp_def, on=groupby_cols)[relevant_cols]\n",
    "df_resp_def_joint = df_resp_def_joint[df_resp_def_joint['tracking.player.id.skillcorner_x'] < df_resp_def_joint['tracking.player.id.skillcorner_y']]\n",
    "df_resp_def_joint['joint_resp'] = df_resp_def_joint['responsibility_x'] + df_resp_def_joint['responsibility_y']"
   ]
  },
  {
   "cell_type": "code",
   "execution_count": null,
   "metadata": {
    "vscode": {
     "languageId": "ruby"
    }
   },
   "outputs": [],
   "source": [
    "columns_joint_group = ['timestamp', 'period', 'tracking.player.id.skillcorner_x', 'tracking.player.id.skillcorner_y', 'joint_resp']\n",
    "\n",
    "defender_dyads_network = df_resp_def_joint.groupby(['tracking.player.id.skillcorner_x', 'tracking.player.id.skillcorner_y']).agg(\n",
    "    joint_responsibility_mean=('joint_resp', 'mean'),\n",
    "    joint_responsibility_sum=('joint_resp', 'sum'),\n",
    "    group_size=('joint_resp', 'size')\n",
    "    ).reset_index()"
   ]
  },
  {
   "cell_type": "code",
   "execution_count": 15,
   "metadata": {
    "vscode": {
     "languageId": "ruby"
    }
   },
   "outputs": [
    {
     "data": {
      "text/html": [
       "<div>\n",
       "<style scoped>\n",
       "    .dataframe tbody tr th:only-of-type {\n",
       "        vertical-align: middle;\n",
       "    }\n",
       "\n",
       "    .dataframe tbody tr th {\n",
       "        vertical-align: top;\n",
       "    }\n",
       "\n",
       "    .dataframe thead th {\n",
       "        text-align: right;\n",
       "    }\n",
       "</style>\n",
       "<table border=\"1\" class=\"dataframe\">\n",
       "  <thead>\n",
       "    <tr style=\"text-align: right;\">\n",
       "      <th></th>\n",
       "      <th>tracking.player.id.skillcorner_x</th>\n",
       "      <th>tracking.player.id.skillcorner_y</th>\n",
       "      <th>joint_responsibility_mean</th>\n",
       "      <th>joint_responsibility_sum</th>\n",
       "      <th>group_size</th>\n",
       "    </tr>\n",
       "  </thead>\n",
       "  <tbody>\n",
       "    <tr>\n",
       "      <th>1</th>\n",
       "      <td>7863</td>\n",
       "      <td>11516</td>\n",
       "      <td>1.116042</td>\n",
       "      <td>5.580209</td>\n",
       "      <td>5</td>\n",
       "    </tr>\n",
       "    <tr>\n",
       "      <th>0</th>\n",
       "      <td>7863</td>\n",
       "      <td>10738</td>\n",
       "      <td>1.042314</td>\n",
       "      <td>63.581131</td>\n",
       "      <td>61</td>\n",
       "    </tr>\n",
       "    <tr>\n",
       "      <th>7</th>\n",
       "      <td>10738</td>\n",
       "      <td>11516</td>\n",
       "      <td>1.066106</td>\n",
       "      <td>3.198319</td>\n",
       "      <td>3</td>\n",
       "    </tr>\n",
       "    <tr>\n",
       "      <th>10</th>\n",
       "      <td>10738</td>\n",
       "      <td>14397</td>\n",
       "      <td>1.704591</td>\n",
       "      <td>1.704591</td>\n",
       "      <td>1</td>\n",
       "    </tr>\n",
       "    <tr>\n",
       "      <th>4</th>\n",
       "      <td>7863</td>\n",
       "      <td>14407</td>\n",
       "      <td>1.107318</td>\n",
       "      <td>16.609774</td>\n",
       "      <td>15</td>\n",
       "    </tr>\n",
       "  </tbody>\n",
       "</table>\n",
       "</div>"
      ],
      "text/plain": [
       "    tracking.player.id.skillcorner_x  tracking.player.id.skillcorner_y  \\\n",
       "1                               7863                             11516   \n",
       "0                               7863                             10738   \n",
       "7                              10738                             11516   \n",
       "10                             10738                             14397   \n",
       "4                               7863                             14407   \n",
       "\n",
       "    joint_responsibility_mean  joint_responsibility_sum  group_size  \n",
       "1                    1.116042                  5.580209           5  \n",
       "0                    1.042314                 63.581131          61  \n",
       "7                    1.066106                  3.198319           3  \n",
       "10                   1.704591                  1.704591           1  \n",
       "4                    1.107318                 16.609774          15  "
      ]
     },
     "execution_count": 15,
     "metadata": {},
     "output_type": "execute_result"
    }
   ],
   "source": [
    "defender_dyads_network.sample(5)"
   ]
  }
 ],
 "metadata": {
  "kernelspec": {
   "display_name": "fball-analytics",
   "language": "python",
   "name": "python3"
  },
  "language_info": {
   "codemirror_mode": {
    "name": "ipython",
    "version": 3
   },
   "file_extension": ".py",
   "mimetype": "text/x-python",
   "name": "python",
   "nbconvert_exporter": "python",
   "pygments_lexer": "ipython3",
   "version": "3.10.15"
  }
 },
 "nbformat": 4,
 "nbformat_minor": 2
}
