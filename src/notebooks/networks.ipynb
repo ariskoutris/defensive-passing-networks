{
 "cells": [
  {
   "cell_type": "code",
   "execution_count": 1,
   "metadata": {},
   "outputs": [],
   "source": [
    "import pandas as pd\n",
    "\n",
    "import sys\n",
    "sys.path.append('../')\n",
    "from utils import *\n",
    "\n",
    "pd.set_option('display.max_columns', None)"
   ]
  },
  {
   "cell_type": "code",
   "execution_count": 2,
   "metadata": {},
   "outputs": [],
   "source": [
    "WYSCOUT_ID = 5414111\n",
    "SKILLCORNER_ID = 952209"
   ]
  },
  {
   "cell_type": "code",
   "execution_count": 3,
   "metadata": {},
   "outputs": [],
   "source": [
    "DATA_PATH = f'../../data/networks/match_{SKILLCORNER_ID}/'\n",
    "PASSES_DF_PATH = DATA_PATH + 'passes_df.pkl'\n",
    "WYSCOUT_PATH = DATA_PATH + 'wyscout/'\n",
    "SKILLCORNER_PATH = DATA_PATH + 'skillcorner/'\n",
    "MATCH_IDS_PATH = DATA_PATH + 'matchids.csv'\n",
    "XT_PLOT_PATH = DATA_PATH + 'smoothed_xt.csv'"
   ]
  },
  {
   "cell_type": "markdown",
   "metadata": {},
   "source": [
    "# Passes Network"
   ]
  },
  {
   "cell_type": "code",
   "execution_count": 4,
   "metadata": {},
   "outputs": [],
   "source": [
    "passes_df = pd.read_pickle(PASSES_DF_PATH)\n",
    "passes_df.rename(columns={'matchPeriod': 'match.period'}, inplace=True)"
   ]
  },
  {
   "cell_type": "markdown",
   "metadata": {},
   "source": [
    "Keep only players of the opposing team, who are defenders with responsibility greater than 0."
   ]
  },
  {
   "cell_type": "code",
   "execution_count": 5,
   "metadata": {
    "vscode": {
     "languageId": "ruby"
    }
   },
   "outputs": [],
   "source": [
    "passes_df = passes_df[~passes_df['tracking.is_teammate']]\n",
    "passes_df = passes_df[passes_df['tracking.object_id'] != -1]\n",
    "passes_df = passes_df[passes_df['responsibility'] > 0]"
   ]
  },
  {
   "cell_type": "markdown",
   "metadata": {},
   "source": [
    "# Passes Network"
   ]
  },
  {
   "cell_type": "code",
   "execution_count": 6,
   "metadata": {
    "vscode": {
     "languageId": "ruby"
    }
   },
   "outputs": [],
   "source": [
    "column_mask = ['player.id.skillcorner', 'pass.recipient.id.skillcorner', 'location.x', 'location.y' , 'pass.endLocation.x', 'pass.endLocation.y', 'dxt', 'responsibility', 'match.period', 'team.name']\n",
    "group_column_mask = [col for col in column_mask if col != 'responsibility']\n",
    "passes_network = passes_df[column_mask].groupby(group_column_mask).agg({\n",
    "    'responsibility': ['sum', 'count'],\n",
    "    }).reset_index()\n",
    "passes_network.columns = ['.'.join(col).strip() if col[1] != '' else col[0] for col in passes_network.columns.values]"
   ]
  },
  {
   "cell_type": "code",
   "execution_count": 7,
   "metadata": {
    "vscode": {
     "languageId": "ruby"
    }
   },
   "outputs": [
    {
     "data": {
      "text/html": [
       "<div>\n",
       "<style scoped>\n",
       "    .dataframe tbody tr th:only-of-type {\n",
       "        vertical-align: middle;\n",
       "    }\n",
       "\n",
       "    .dataframe tbody tr th {\n",
       "        vertical-align: top;\n",
       "    }\n",
       "\n",
       "    .dataframe thead th {\n",
       "        text-align: right;\n",
       "    }\n",
       "</style>\n",
       "<table border=\"1\" class=\"dataframe\">\n",
       "  <thead>\n",
       "    <tr style=\"text-align: right;\">\n",
       "      <th></th>\n",
       "      <th>player.id.skillcorner</th>\n",
       "      <th>pass.recipient.id.skillcorner</th>\n",
       "      <th>location.x</th>\n",
       "      <th>location.y</th>\n",
       "      <th>pass.endLocation.x</th>\n",
       "      <th>pass.endLocation.y</th>\n",
       "      <th>dxt</th>\n",
       "      <th>match.period</th>\n",
       "      <th>team.name</th>\n",
       "      <th>responsibility.sum</th>\n",
       "      <th>responsibility.count</th>\n",
       "    </tr>\n",
       "  </thead>\n",
       "  <tbody>\n",
       "    <tr>\n",
       "      <th>115</th>\n",
       "      <td>7863</td>\n",
       "      <td>7017</td>\n",
       "      <td>7.411765</td>\n",
       "      <td>-28.901053</td>\n",
       "      <td>5.294118</td>\n",
       "      <td>-14.660000</td>\n",
       "      <td>0.001917</td>\n",
       "      <td>1</td>\n",
       "      <td>Netherland</td>\n",
       "      <td>0.409047</td>\n",
       "      <td>1</td>\n",
       "    </tr>\n",
       "    <tr>\n",
       "      <th>42</th>\n",
       "      <td>3837</td>\n",
       "      <td>7387</td>\n",
       "      <td>-28.588235</td>\n",
       "      <td>19.548889</td>\n",
       "      <td>-41.500000</td>\n",
       "      <td>10.382222</td>\n",
       "      <td>0.060008</td>\n",
       "      <td>1</td>\n",
       "      <td>Netherland</td>\n",
       "      <td>0.783624</td>\n",
       "      <td>1</td>\n",
       "    </tr>\n",
       "    <tr>\n",
       "      <th>177</th>\n",
       "      <td>10738</td>\n",
       "      <td>14407</td>\n",
       "      <td>15.882353</td>\n",
       "      <td>-13.437778</td>\n",
       "      <td>9.529412</td>\n",
       "      <td>19.548889</td>\n",
       "      <td>0.001281</td>\n",
       "      <td>1</td>\n",
       "      <td>Netherland</td>\n",
       "      <td>0.700065</td>\n",
       "      <td>1</td>\n",
       "    </tr>\n",
       "    <tr>\n",
       "      <th>108</th>\n",
       "      <td>7604</td>\n",
       "      <td>8206</td>\n",
       "      <td>45.625000</td>\n",
       "      <td>-1.409231</td>\n",
       "      <td>4.235294</td>\n",
       "      <td>0.000000</td>\n",
       "      <td>0.005974</td>\n",
       "      <td>2</td>\n",
       "      <td>France</td>\n",
       "      <td>1.509750</td>\n",
       "      <td>4</td>\n",
       "    </tr>\n",
       "    <tr>\n",
       "      <th>256</th>\n",
       "      <td>11630</td>\n",
       "      <td>12190</td>\n",
       "      <td>-36.916667</td>\n",
       "      <td>-28.901053</td>\n",
       "      <td>-13.764706</td>\n",
       "      <td>-27.444211</td>\n",
       "      <td>0.002269</td>\n",
       "      <td>1</td>\n",
       "      <td>France</td>\n",
       "      <td>2.949551</td>\n",
       "      <td>4</td>\n",
       "    </tr>\n",
       "  </tbody>\n",
       "</table>\n",
       "</div>"
      ],
      "text/plain": [
       "     player.id.skillcorner  pass.recipient.id.skillcorner  location.x  \\\n",
       "115                   7863                           7017    7.411765   \n",
       "42                    3837                           7387  -28.588235   \n",
       "177                  10738                          14407   15.882353   \n",
       "108                   7604                           8206   45.625000   \n",
       "256                  11630                          12190  -36.916667   \n",
       "\n",
       "     location.y  pass.endLocation.x  pass.endLocation.y       dxt  \\\n",
       "115  -28.901053            5.294118          -14.660000  0.001917   \n",
       "42    19.548889          -41.500000           10.382222  0.060008   \n",
       "177  -13.437778            9.529412           19.548889  0.001281   \n",
       "108   -1.409231            4.235294            0.000000  0.005974   \n",
       "256  -28.901053          -13.764706          -27.444211  0.002269   \n",
       "\n",
       "     match.period   team.name  responsibility.sum  responsibility.count  \n",
       "115             1  Netherland            0.409047                     1  \n",
       "42              1  Netherland            0.783624                     1  \n",
       "177             1  Netherland            0.700065                     1  \n",
       "108             2      France            1.509750                     4  \n",
       "256             1      France            2.949551                     4  "
      ]
     },
     "execution_count": 7,
     "metadata": {},
     "output_type": "execute_result"
    }
   ],
   "source": [
    "passes_network.sample(5)"
   ]
  },
  {
   "cell_type": "markdown",
   "metadata": {},
   "source": [
    "# Defender Responsibility Network"
   ]
  },
  {
   "cell_type": "code",
   "execution_count": 8,
   "metadata": {
    "vscode": {
     "languageId": "ruby"
    }
   },
   "outputs": [],
   "source": [
    "tracking_object_id = 11606\n",
    "\n",
    "player_passes_df = passes_df[passes_df['tracking.object_id'] == tracking_object_id]\n",
    "defender_responsibility_network = player_passes_df[player_passes_df['responsibility'] > 0]\n",
    "\n",
    "column_mask = ['player.id.skillcorner', 'pass.recipient.id.skillcorner', 'location.x', 'location.y' , 'pass.endLocation.x', 'pass.endLocation.y', 'dxt', 'responsibility', 'match.period', 'team.name']\n",
    "defender_responsibility_network = defender_responsibility_network[column_mask]"
   ]
  },
  {
   "cell_type": "code",
   "execution_count": 9,
   "metadata": {
    "vscode": {
     "languageId": "ruby"
    }
   },
   "outputs": [
    {
     "data": {
      "text/html": [
       "<div>\n",
       "<style scoped>\n",
       "    .dataframe tbody tr th:only-of-type {\n",
       "        vertical-align: middle;\n",
       "    }\n",
       "\n",
       "    .dataframe tbody tr th {\n",
       "        vertical-align: top;\n",
       "    }\n",
       "\n",
       "    .dataframe thead th {\n",
       "        text-align: right;\n",
       "    }\n",
       "</style>\n",
       "<table border=\"1\" class=\"dataframe\">\n",
       "  <thead>\n",
       "    <tr style=\"text-align: right;\">\n",
       "      <th></th>\n",
       "      <th>player.id.skillcorner</th>\n",
       "      <th>pass.recipient.id.skillcorner</th>\n",
       "      <th>location.x</th>\n",
       "      <th>location.y</th>\n",
       "      <th>pass.endLocation.x</th>\n",
       "      <th>pass.endLocation.y</th>\n",
       "      <th>dxt</th>\n",
       "      <th>responsibility</th>\n",
       "      <th>match.period</th>\n",
       "      <th>team.name</th>\n",
       "    </tr>\n",
       "    <tr>\n",
       "      <th>frame</th>\n",
       "      <th></th>\n",
       "      <th></th>\n",
       "      <th></th>\n",
       "      <th></th>\n",
       "      <th></th>\n",
       "      <th></th>\n",
       "      <th></th>\n",
       "      <th></th>\n",
       "      <th></th>\n",
       "      <th></th>\n",
       "    </tr>\n",
       "  </thead>\n",
       "  <tbody>\n",
       "    <tr>\n",
       "      <th>50926</th>\n",
       "      <td>3837</td>\n",
       "      <td>12654</td>\n",
       "      <td>24.352941</td>\n",
       "      <td>-17.715556</td>\n",
       "      <td>44.250000</td>\n",
       "      <td>-26.715789</td>\n",
       "      <td>0.027531</td>\n",
       "      <td>0.339803</td>\n",
       "      <td>2</td>\n",
       "      <td>Netherland</td>\n",
       "    </tr>\n",
       "    <tr>\n",
       "      <th>8566</th>\n",
       "      <td>10738</td>\n",
       "      <td>10082</td>\n",
       "      <td>-1.058824</td>\n",
       "      <td>-14.048889</td>\n",
       "      <td>-47.916667</td>\n",
       "      <td>31.814737</td>\n",
       "      <td>0.048573</td>\n",
       "      <td>0.885358</td>\n",
       "      <td>1</td>\n",
       "      <td>Netherland</td>\n",
       "    </tr>\n",
       "    <tr>\n",
       "      <th>56242</th>\n",
       "      <td>12654</td>\n",
       "      <td>10916</td>\n",
       "      <td>19.058824</td>\n",
       "      <td>-15.882222</td>\n",
       "      <td>31.764706</td>\n",
       "      <td>-15.882222</td>\n",
       "      <td>0.024102</td>\n",
       "      <td>0.217319</td>\n",
       "      <td>2</td>\n",
       "      <td>Netherland</td>\n",
       "    </tr>\n",
       "    <tr>\n",
       "      <th>56627</th>\n",
       "      <td>10738</td>\n",
       "      <td>14397</td>\n",
       "      <td>-27.529412</td>\n",
       "      <td>12.215556</td>\n",
       "      <td>-6.352941</td>\n",
       "      <td>-23.802105</td>\n",
       "      <td>0.003263</td>\n",
       "      <td>0.115540</td>\n",
       "      <td>2</td>\n",
       "      <td>Netherland</td>\n",
       "    </tr>\n",
       "    <tr>\n",
       "      <th>1117</th>\n",
       "      <td>10082</td>\n",
       "      <td>7017</td>\n",
       "      <td>14.823529</td>\n",
       "      <td>32.543158</td>\n",
       "      <td>16.941176</td>\n",
       "      <td>18.326667</td>\n",
       "      <td>0.000201</td>\n",
       "      <td>0.569141</td>\n",
       "      <td>1</td>\n",
       "      <td>Netherland</td>\n",
       "    </tr>\n",
       "  </tbody>\n",
       "</table>\n",
       "</div>"
      ],
      "text/plain": [
       "       player.id.skillcorner  pass.recipient.id.skillcorner  location.x  \\\n",
       "frame                                                                     \n",
       "50926                   3837                          12654   24.352941   \n",
       "8566                   10738                          10082   -1.058824   \n",
       "56242                  12654                          10916   19.058824   \n",
       "56627                  10738                          14397  -27.529412   \n",
       "1117                   10082                           7017   14.823529   \n",
       "\n",
       "       location.y  pass.endLocation.x  pass.endLocation.y       dxt  \\\n",
       "frame                                                                 \n",
       "50926  -17.715556           44.250000          -26.715789  0.027531   \n",
       "8566   -14.048889          -47.916667           31.814737  0.048573   \n",
       "56242  -15.882222           31.764706          -15.882222  0.024102   \n",
       "56627   12.215556           -6.352941          -23.802105  0.003263   \n",
       "1117    32.543158           16.941176           18.326667  0.000201   \n",
       "\n",
       "       responsibility  match.period   team.name  \n",
       "frame                                            \n",
       "50926        0.339803             2  Netherland  \n",
       "8566         0.885358             1  Netherland  \n",
       "56242        0.217319             2  Netherland  \n",
       "56627        0.115540             2  Netherland  \n",
       "1117         0.569141             1  Netherland  "
      ]
     },
     "execution_count": 9,
     "metadata": {},
     "output_type": "execute_result"
    }
   ],
   "source": [
    "defender_responsibility_network.sample(5)"
   ]
  },
  {
   "cell_type": "markdown",
   "metadata": {},
   "source": [
    "# Aggregate Statistics for each Defender"
   ]
  },
  {
   "cell_type": "code",
   "execution_count": 34,
   "metadata": {
    "vscode": {
     "languageId": "ruby"
    }
   },
   "outputs": [
    {
     "data": {
      "text/html": [
       "<div>\n",
       "<style scoped>\n",
       "    .dataframe tbody tr th:only-of-type {\n",
       "        vertical-align: middle;\n",
       "    }\n",
       "\n",
       "    .dataframe tbody tr th {\n",
       "        vertical-align: top;\n",
       "    }\n",
       "\n",
       "    .dataframe thead th {\n",
       "        text-align: right;\n",
       "    }\n",
       "</style>\n",
       "<table border=\"1\" class=\"dataframe\">\n",
       "  <thead>\n",
       "    <tr style=\"text-align: right;\">\n",
       "      <th></th>\n",
       "      <th>tracking.object_id</th>\n",
       "      <th>responsibility_mean</th>\n",
       "      <th>dxt_mean</th>\n",
       "      <th>group_size</th>\n",
       "    </tr>\n",
       "  </thead>\n",
       "  <tbody>\n",
       "    <tr>\n",
       "      <th>15</th>\n",
       "      <td>10916</td>\n",
       "      <td>0.405366</td>\n",
       "      <td>0.010905</td>\n",
       "      <td>14</td>\n",
       "    </tr>\n",
       "    <tr>\n",
       "      <th>5</th>\n",
       "      <td>4777</td>\n",
       "      <td>0.161635</td>\n",
       "      <td>0.065234</td>\n",
       "      <td>7</td>\n",
       "    </tr>\n",
       "    <tr>\n",
       "      <th>11</th>\n",
       "      <td>7863</td>\n",
       "      <td>0.487821</td>\n",
       "      <td>0.016757</td>\n",
       "      <td>27</td>\n",
       "    </tr>\n",
       "    <tr>\n",
       "      <th>0</th>\n",
       "      <td>277</td>\n",
       "      <td>0.410154</td>\n",
       "      <td>0.010028</td>\n",
       "      <td>35</td>\n",
       "    </tr>\n",
       "    <tr>\n",
       "      <th>8</th>\n",
       "      <td>7017</td>\n",
       "      <td>0.459053</td>\n",
       "      <td>0.007955</td>\n",
       "      <td>27</td>\n",
       "    </tr>\n",
       "  </tbody>\n",
       "</table>\n",
       "</div>"
      ],
      "text/plain": [
       "    tracking.object_id  responsibility_mean  dxt_mean  group_size\n",
       "15               10916             0.405366  0.010905          14\n",
       "5                 4777             0.161635  0.065234           7\n",
       "11                7863             0.487821  0.016757          27\n",
       "0                  277             0.410154  0.010028          35\n",
       "8                 7017             0.459053  0.007955          27"
      ]
     },
     "execution_count": 34,
     "metadata": {},
     "output_type": "execute_result"
    }
   ],
   "source": [
    "defender_stats = passes_df.groupby('tracking.object_id').agg(\n",
    "    responsibility_mean=('responsibility', 'mean'),\n",
    "    dxt_mean=('dxt', 'mean'),\n",
    "    group_size=('responsibility', 'size')\n",
    ").reset_index()\n",
    "\n",
    "defender_stats.sample(5)"
   ]
  },
  {
   "cell_type": "markdown",
   "metadata": {},
   "source": [
    "# Defender Dyads"
   ]
  },
  {
   "cell_type": "code",
   "execution_count": 31,
   "metadata": {
    "vscode": {
     "languageId": "ruby"
    }
   },
   "outputs": [],
   "source": [
    "passes_df_cp = passes_df.reset_index()\n",
    "pass_filt_df = passes_df_cp.groupby('frame').filter(lambda x: len(x) >= 2)\n",
    "\n",
    "relevant_cols = ['frame', 'team.name_x', 'tracking.object_id_x', 'tracking.object_id_y',  'dxt_x', 'responsibility_x', 'responsibility_y']\n",
    "joint_df = pass_filt_df.merge(pass_filt_df, on='frame')[relevant_cols]\n",
    "joint_df = joint_df[joint_df['tracking.object_id_x'] < joint_df['tracking.object_id_y']]\n",
    "joint_df['joint_resp'] = joint_df['responsibility_x'] + joint_df['responsibility_y']\n",
    "joint_df.rename(columns={'dxt_x': 'dxt', 'team.name_x': 'team_name'}, inplace=True)\n",
    "\n",
    "columns_joint_group = ['frame', 'tracking.player.id.skillcorner_x', 'tracking.player.id.skillcorner_y', 'joint_resp']\n",
    "defender_dyads_network = joint_df.groupby(['tracking.object_id_x', 'tracking.object_id_y']).agg(\n",
    "    joint_responsibility_mean=('joint_resp', 'mean'),\n",
    "    joint_responsibility_sum=('joint_resp', 'sum'),\n",
    "    joint_xt_mean = ('dxt', 'mean'),\n",
    "    joint_xt_sum = ('dxt', 'sum'),\n",
    "    team_name=('team_name', 'first'),\n",
    "    group_size=('joint_resp', 'size')\n",
    "    ).reset_index()"
   ]
  },
  {
   "cell_type": "code",
   "execution_count": 32,
   "metadata": {
    "vscode": {
     "languageId": "ruby"
    }
   },
   "outputs": [
    {
     "data": {
      "text/html": [
       "<div>\n",
       "<style scoped>\n",
       "    .dataframe tbody tr th:only-of-type {\n",
       "        vertical-align: middle;\n",
       "    }\n",
       "\n",
       "    .dataframe tbody tr th {\n",
       "        vertical-align: top;\n",
       "    }\n",
       "\n",
       "    .dataframe thead th {\n",
       "        text-align: right;\n",
       "    }\n",
       "</style>\n",
       "<table border=\"1\" class=\"dataframe\">\n",
       "  <thead>\n",
       "    <tr style=\"text-align: right;\">\n",
       "      <th></th>\n",
       "      <th>tracking.object_id_x</th>\n",
       "      <th>tracking.object_id_y</th>\n",
       "      <th>joint_responsibility_mean</th>\n",
       "      <th>joint_responsibility_sum</th>\n",
       "      <th>joint_xt_mean</th>\n",
       "      <th>joint_xt_sum</th>\n",
       "      <th>team_name</th>\n",
       "      <th>group_size</th>\n",
       "    </tr>\n",
       "  </thead>\n",
       "  <tbody>\n",
       "    <tr>\n",
       "      <th>46</th>\n",
       "      <td>4777</td>\n",
       "      <td>7387</td>\n",
       "      <td>1.298321</td>\n",
       "      <td>1.298321</td>\n",
       "      <td>0.076054</td>\n",
       "      <td>0.076054</td>\n",
       "      <td>France</td>\n",
       "      <td>1</td>\n",
       "    </tr>\n",
       "    <tr>\n",
       "      <th>21</th>\n",
       "      <td>946</td>\n",
       "      <td>16320</td>\n",
       "      <td>1.053264</td>\n",
       "      <td>6.319587</td>\n",
       "      <td>0.027113</td>\n",
       "      <td>0.162675</td>\n",
       "      <td>Netherland</td>\n",
       "      <td>6</td>\n",
       "    </tr>\n",
       "    <tr>\n",
       "      <th>135</th>\n",
       "      <td>11630</td>\n",
       "      <td>16320</td>\n",
       "      <td>0.957662</td>\n",
       "      <td>6.703634</td>\n",
       "      <td>0.018316</td>\n",
       "      <td>0.128212</td>\n",
       "      <td>Netherland</td>\n",
       "      <td>7</td>\n",
       "    </tr>\n",
       "    <tr>\n",
       "      <th>61</th>\n",
       "      <td>6028</td>\n",
       "      <td>8206</td>\n",
       "      <td>0.466305</td>\n",
       "      <td>0.932611</td>\n",
       "      <td>0.002655</td>\n",
       "      <td>0.005311</td>\n",
       "      <td>Netherland</td>\n",
       "      <td>2</td>\n",
       "    </tr>\n",
       "    <tr>\n",
       "      <th>117</th>\n",
       "      <td>10916</td>\n",
       "      <td>31930</td>\n",
       "      <td>0.562871</td>\n",
       "      <td>0.562871</td>\n",
       "      <td>-0.000747</td>\n",
       "      <td>-0.000747</td>\n",
       "      <td>France</td>\n",
       "      <td>1</td>\n",
       "    </tr>\n",
       "  </tbody>\n",
       "</table>\n",
       "</div>"
      ],
      "text/plain": [
       "     tracking.object_id_x  tracking.object_id_y  joint_responsibility_mean  \\\n",
       "46                   4777                  7387                   1.298321   \n",
       "21                    946                 16320                   1.053264   \n",
       "135                 11630                 16320                   0.957662   \n",
       "61                   6028                  8206                   0.466305   \n",
       "117                 10916                 31930                   0.562871   \n",
       "\n",
       "     joint_responsibility_sum  joint_xt_mean  joint_xt_sum   team_name  \\\n",
       "46                   1.298321       0.076054      0.076054      France   \n",
       "21                   6.319587       0.027113      0.162675  Netherland   \n",
       "135                  6.703634       0.018316      0.128212  Netherland   \n",
       "61                   0.932611       0.002655      0.005311  Netherland   \n",
       "117                  0.562871      -0.000747     -0.000747      France   \n",
       "\n",
       "     group_size  \n",
       "46            1  \n",
       "21            6  \n",
       "135           7  \n",
       "61            2  \n",
       "117           1  "
      ]
     },
     "execution_count": 32,
     "metadata": {},
     "output_type": "execute_result"
    }
   ],
   "source": [
    "defender_dyads_network.sample(5)"
   ]
  }
 ],
 "metadata": {
  "kernelspec": {
   "display_name": "fball-analytics",
   "language": "python",
   "name": "python3"
  },
  "language_info": {
   "codemirror_mode": {
    "name": "ipython",
    "version": 3
   },
   "file_extension": ".py",
   "mimetype": "text/x-python",
   "name": "python",
   "nbconvert_exporter": "python",
   "pygments_lexer": "ipython3",
   "version": "3.10.15"
  }
 },
 "nbformat": 4,
 "nbformat_minor": 2
}
