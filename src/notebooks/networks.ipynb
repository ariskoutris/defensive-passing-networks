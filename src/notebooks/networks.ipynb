{
 "cells": [
  {
   "cell_type": "code",
   "execution_count": 1,
   "metadata": {},
   "outputs": [],
   "source": [
    "import pandas as pd\n",
    "import numpy as np\n",
    "\n",
    "import sys\n",
    "sys.path.append('../')\n",
    "from utils import *\n",
    "\n",
    "pd.set_option('display.max_columns', None)"
   ]
  },
  {
   "cell_type": "code",
   "execution_count": 2,
   "metadata": {
    "vscode": {
     "languageId": "ruby"
    }
   },
   "outputs": [],
   "source": [
    "DATA_PATH = '../../data/'\n",
    "PASSES_DF_PATH = DATA_PATH + 'passes_df.pkl'\n",
    "WYSCOUT_PATH = DATA_PATH + 'wyscout/'\n",
    "SKILLCORNER_PATH = DATA_PATH + 'skillcorner/'\n",
    "MATCH_IDS_PATH = DATA_PATH + 'matchids.csv'\n",
    "XT_PLOT_PATH = DATA_PATH + 'smoothed_xt.csv'"
   ]
  },
  {
   "cell_type": "markdown",
   "metadata": {},
   "source": [
    "# Passes Network"
   ]
  },
  {
   "cell_type": "code",
   "execution_count": 3,
   "metadata": {
    "vscode": {
     "languageId": "ruby"
    }
   },
   "outputs": [],
   "source": [
    "passes_df = pd.read_pickle(PASSES_DF_PATH)\n",
    "\n",
    "match_info = pd.read_csv(MATCH_IDS_PATH)\n",
    "match_info = match_info.dropna(subset=['wyscout', 'skillcorner'])\n",
    "match_info['skillcorner'] = match_info['skillcorner'].astype(int)\n",
    "\n",
    "wyscout_id = match_info['wyscout'].values[0]\n",
    "skillcorner_id = match_info['skillcorner'].values[0]\n",
    "\n",
    "metadata = pd.read_csv(SKILLCORNER_PATH + str(skillcorner_id) + \"_metadata.csv\")\n",
    "tracking_df = pd.read_csv(SKILLCORNER_PATH + str(skillcorner_id) + \"_tracking.csv\")\n",
    "lineup_df = pd.read_csv(SKILLCORNER_PATH + str(skillcorner_id) + \"_lineup.csv\")"
   ]
  },
  {
   "cell_type": "code",
   "execution_count": 4,
   "metadata": {},
   "outputs": [],
   "source": [
    "lineup_df = lineup_df[['player_id', 'player_position']].rename(columns={'player_id': 'tracking.object_id', 'player_position': 'tracking.player_position'})\n",
    "lineup_df['tracking.player_position'].unique()\n",
    "\n",
    "passes_df_new = passes_df.merge(lineup_df, how='left')\n",
    "\n",
    "# assert that every player has a matching entry in lineup_df\n",
    "assert len(passes_df_new) == len(passes_df)\n",
    "\n",
    "passes_df = passes_df_new"
   ]
  },
  {
   "cell_type": "code",
   "execution_count": 5,
   "metadata": {
    "vscode": {
     "languageId": "ruby"
    }
   },
   "outputs": [],
   "source": [
    "defender_positions = ['Right Wing Back', 'Right Center Back', 'Left Center Back', 'Left Wing Back']"
   ]
  },
  {
   "cell_type": "markdown",
   "metadata": {},
   "source": [
    "Keep only players of the opposing team, who are defenders with responsibility greater than 0."
   ]
  },
  {
   "cell_type": "code",
   "execution_count": 6,
   "metadata": {
    "vscode": {
     "languageId": "ruby"
    }
   },
   "outputs": [],
   "source": [
    "passes_df = passes_df[~passes_df['tracking.is_teammate']]\n",
    "passes_df = passes_df[passes_df['responsibility'] > 0]\n",
    "passes_df = passes_df[passes_df['tracking.player_position'].isin(defender_positions)]"
   ]
  },
  {
   "cell_type": "markdown",
   "metadata": {},
   "source": [
    "# Passes Network"
   ]
  },
  {
   "cell_type": "code",
   "execution_count": 7,
   "metadata": {
    "vscode": {
     "languageId": "ruby"
    }
   },
   "outputs": [],
   "source": [
    "column_mask = ['timestamp', 'period', 'player.id.skillcorner', 'pass.recipient.id.skillcorner', 'location.x', 'location.y' , 'pass.endLocation.x', 'pass.endLocation.y', 'dxt', 'responsibility']\n",
    "group_column_mask = [col for col in column_mask if col != 'responsibility']\n",
    "passes_network = passes_df[column_mask].groupby(group_column_mask).agg({'responsibility': 'sum'}).reset_index()"
   ]
  },
  {
   "cell_type": "code",
   "execution_count": 8,
   "metadata": {
    "vscode": {
     "languageId": "ruby"
    }
   },
   "outputs": [
    {
     "data": {
      "text/html": [
       "<div>\n",
       "<style scoped>\n",
       "    .dataframe tbody tr th:only-of-type {\n",
       "        vertical-align: middle;\n",
       "    }\n",
       "\n",
       "    .dataframe tbody tr th {\n",
       "        vertical-align: top;\n",
       "    }\n",
       "\n",
       "    .dataframe thead th {\n",
       "        text-align: right;\n",
       "    }\n",
       "</style>\n",
       "<table border=\"1\" class=\"dataframe\">\n",
       "  <thead>\n",
       "    <tr style=\"text-align: right;\">\n",
       "      <th></th>\n",
       "      <th>timestamp</th>\n",
       "      <th>period</th>\n",
       "      <th>player.id.skillcorner</th>\n",
       "      <th>pass.recipient.id.skillcorner</th>\n",
       "      <th>location.x</th>\n",
       "      <th>location.y</th>\n",
       "      <th>pass.endLocation.x</th>\n",
       "      <th>pass.endLocation.y</th>\n",
       "      <th>dxt</th>\n",
       "      <th>responsibility</th>\n",
       "    </tr>\n",
       "  </thead>\n",
       "  <tbody>\n",
       "    <tr>\n",
       "      <th>213</th>\n",
       "      <td>01:09:57.800000</td>\n",
       "      <td>2</td>\n",
       "      <td>16320</td>\n",
       "      <td>12246</td>\n",
       "      <td>19.058824</td>\n",
       "      <td>20.888421</td>\n",
       "      <td>6.352941</td>\n",
       "      <td>25.987368</td>\n",
       "      <td>-0.000909</td>\n",
       "      <td>0.461441</td>\n",
       "    </tr>\n",
       "    <tr>\n",
       "      <th>206</th>\n",
       "      <td>01:05:16.900000</td>\n",
       "      <td>2</td>\n",
       "      <td>5922</td>\n",
       "      <td>12190</td>\n",
       "      <td>6.352941</td>\n",
       "      <td>14.660000</td>\n",
       "      <td>-39.666667</td>\n",
       "      <td>23.802105</td>\n",
       "      <td>0.017473</td>\n",
       "      <td>1.158069</td>\n",
       "    </tr>\n",
       "    <tr>\n",
       "      <th>84</th>\n",
       "      <td>00:22:28.900000</td>\n",
       "      <td>1</td>\n",
       "      <td>33512</td>\n",
       "      <td>7017</td>\n",
       "      <td>-14.823529</td>\n",
       "      <td>-18.326667</td>\n",
       "      <td>-5.294118</td>\n",
       "      <td>4.932308</td>\n",
       "      <td>0.033507</td>\n",
       "      <td>0.159547</td>\n",
       "    </tr>\n",
       "    <tr>\n",
       "      <th>21</th>\n",
       "      <td>00:09:09.700000</td>\n",
       "      <td>1</td>\n",
       "      <td>24466</td>\n",
       "      <td>10082</td>\n",
       "      <td>-42.875000</td>\n",
       "      <td>31.814737</td>\n",
       "      <td>-42.875000</td>\n",
       "      <td>23.073684</td>\n",
       "      <td>-0.001698</td>\n",
       "      <td>0.827960</td>\n",
       "    </tr>\n",
       "    <tr>\n",
       "      <th>184</th>\n",
       "      <td>00:53:48.200000</td>\n",
       "      <td>2</td>\n",
       "      <td>11630</td>\n",
       "      <td>12190</td>\n",
       "      <td>6.352941</td>\n",
       "      <td>29.629474</td>\n",
       "      <td>-11.647059</td>\n",
       "      <td>14.660000</td>\n",
       "      <td>0.070783</td>\n",
       "      <td>1.302446</td>\n",
       "    </tr>\n",
       "  </tbody>\n",
       "</table>\n",
       "</div>"
      ],
      "text/plain": [
       "           timestamp  period  player.id.skillcorner  \\\n",
       "213  01:09:57.800000       2                  16320   \n",
       "206  01:05:16.900000       2                   5922   \n",
       "84   00:22:28.900000       1                  33512   \n",
       "21   00:09:09.700000       1                  24466   \n",
       "184  00:53:48.200000       2                  11630   \n",
       "\n",
       "     pass.recipient.id.skillcorner  location.x  location.y  \\\n",
       "213                          12246   19.058824   20.888421   \n",
       "206                          12190    6.352941   14.660000   \n",
       "84                            7017  -14.823529  -18.326667   \n",
       "21                           10082  -42.875000   31.814737   \n",
       "184                          12190    6.352941   29.629474   \n",
       "\n",
       "     pass.endLocation.x  pass.endLocation.y       dxt  responsibility  \n",
       "213            6.352941           25.987368 -0.000909        0.461441  \n",
       "206          -39.666667           23.802105  0.017473        1.158069  \n",
       "84            -5.294118            4.932308  0.033507        0.159547  \n",
       "21           -42.875000           23.073684 -0.001698        0.827960  \n",
       "184          -11.647059           14.660000  0.070783        1.302446  "
      ]
     },
     "execution_count": 8,
     "metadata": {},
     "output_type": "execute_result"
    }
   ],
   "source": [
    "passes_network.sample(5)"
   ]
  },
  {
   "cell_type": "markdown",
   "metadata": {},
   "source": [
    "# Defender Responsibility Network"
   ]
  },
  {
   "cell_type": "code",
   "execution_count": 9,
   "metadata": {
    "vscode": {
     "languageId": "ruby"
    }
   },
   "outputs": [],
   "source": [
    "tracking_object_id = 11606\n",
    "\n",
    "player_passes_df = passes_df[passes_df['player.id.skillcorner'] == tracking_object_id]\n",
    "defender_responsibility_network = player_passes_df[player_passes_df['responsibility'] > 0]\n",
    "\n",
    "column_mask = ['timestamp', 'period', 'tracking.x', 'tracking.y', 'dxt', 'responsibility']\n",
    "defender_responsibility_network = defender_responsibility_network[column_mask]"
   ]
  },
  {
   "cell_type": "code",
   "execution_count": 10,
   "metadata": {
    "vscode": {
     "languageId": "ruby"
    }
   },
   "outputs": [],
   "source": [
    "player_passes_df = passes_df[passes_df['player.id.skillcorner'] == tracking_object_id]\n",
    "defender_responsibility_network = player_passes_df[player_passes_df['responsibility'] > 0]\n",
    "\n",
    "column_mask = ['timestamp', 'period', 'tracking.x', 'tracking.y', 'dxt', 'responsibility']\n",
    "defender_responsibility_network = defender_responsibility_network[column_mask]"
   ]
  },
  {
   "cell_type": "code",
   "execution_count": 11,
   "metadata": {
    "vscode": {
     "languageId": "ruby"
    }
   },
   "outputs": [
    {
     "data": {
      "text/html": [
       "<div>\n",
       "<style scoped>\n",
       "    .dataframe tbody tr th:only-of-type {\n",
       "        vertical-align: middle;\n",
       "    }\n",
       "\n",
       "    .dataframe tbody tr th {\n",
       "        vertical-align: top;\n",
       "    }\n",
       "\n",
       "    .dataframe thead th {\n",
       "        text-align: right;\n",
       "    }\n",
       "</style>\n",
       "<table border=\"1\" class=\"dataframe\">\n",
       "  <thead>\n",
       "    <tr style=\"text-align: right;\">\n",
       "      <th></th>\n",
       "      <th>timestamp</th>\n",
       "      <th>period</th>\n",
       "      <th>tracking.x</th>\n",
       "      <th>tracking.y</th>\n",
       "      <th>dxt</th>\n",
       "      <th>responsibility</th>\n",
       "    </tr>\n",
       "  </thead>\n",
       "  <tbody>\n",
       "    <tr>\n",
       "      <th>12217</th>\n",
       "      <td>00:46:25.400000</td>\n",
       "      <td>2</td>\n",
       "      <td>-26.60</td>\n",
       "      <td>-10.87</td>\n",
       "      <td>0.006289</td>\n",
       "      <td>0.167888</td>\n",
       "    </tr>\n",
       "    <tr>\n",
       "      <th>14540</th>\n",
       "      <td>00:58:14.900000</td>\n",
       "      <td>2</td>\n",
       "      <td>44.88</td>\n",
       "      <td>-2.40</td>\n",
       "      <td>-0.001585</td>\n",
       "      <td>0.045348</td>\n",
       "    </tr>\n",
       "    <tr>\n",
       "      <th>13181</th>\n",
       "      <td>00:51:06.900000</td>\n",
       "      <td>2</td>\n",
       "      <td>-30.59</td>\n",
       "      <td>-10.26</td>\n",
       "      <td>-0.012568</td>\n",
       "      <td>0.043322</td>\n",
       "    </tr>\n",
       "    <tr>\n",
       "      <th>12216</th>\n",
       "      <td>00:46:25.400000</td>\n",
       "      <td>2</td>\n",
       "      <td>-23.43</td>\n",
       "      <td>1.79</td>\n",
       "      <td>0.006289</td>\n",
       "      <td>0.644935</td>\n",
       "    </tr>\n",
       "    <tr>\n",
       "      <th>9283</th>\n",
       "      <td>00:32:51.000000</td>\n",
       "      <td>1</td>\n",
       "      <td>3.99</td>\n",
       "      <td>0.81</td>\n",
       "      <td>-0.002365</td>\n",
       "      <td>0.038753</td>\n",
       "    </tr>\n",
       "  </tbody>\n",
       "</table>\n",
       "</div>"
      ],
      "text/plain": [
       "             timestamp  period  tracking.x  tracking.y       dxt  \\\n",
       "12217  00:46:25.400000       2      -26.60      -10.87  0.006289   \n",
       "14540  00:58:14.900000       2       44.88       -2.40 -0.001585   \n",
       "13181  00:51:06.900000       2      -30.59      -10.26 -0.012568   \n",
       "12216  00:46:25.400000       2      -23.43        1.79  0.006289   \n",
       "9283   00:32:51.000000       1        3.99        0.81 -0.002365   \n",
       "\n",
       "       responsibility  \n",
       "12217        0.167888  \n",
       "14540        0.045348  \n",
       "13181        0.043322  \n",
       "12216        0.644935  \n",
       "9283         0.038753  "
      ]
     },
     "execution_count": 11,
     "metadata": {},
     "output_type": "execute_result"
    }
   ],
   "source": [
    "defender_responsibility_network.sample(5)"
   ]
  },
  {
   "cell_type": "markdown",
   "metadata": {},
   "source": [
    "# Aggregate Statistics for each Defender"
   ]
  },
  {
   "cell_type": "code",
   "execution_count": 12,
   "metadata": {
    "vscode": {
     "languageId": "ruby"
    }
   },
   "outputs": [
    {
     "data": {
      "text/html": [
       "<div>\n",
       "<style scoped>\n",
       "    .dataframe tbody tr th:only-of-type {\n",
       "        vertical-align: middle;\n",
       "    }\n",
       "\n",
       "    .dataframe tbody tr th {\n",
       "        vertical-align: top;\n",
       "    }\n",
       "\n",
       "    .dataframe thead th {\n",
       "        text-align: right;\n",
       "    }\n",
       "</style>\n",
       "<table border=\"1\" class=\"dataframe\">\n",
       "  <thead>\n",
       "    <tr style=\"text-align: right;\">\n",
       "      <th></th>\n",
       "      <th>tracking.object_id</th>\n",
       "      <th>average_responsibility</th>\n",
       "      <th>average_dxt</th>\n",
       "      <th>group_size</th>\n",
       "    </tr>\n",
       "  </thead>\n",
       "  <tbody>\n",
       "    <tr>\n",
       "      <th>6</th>\n",
       "      <td>14407</td>\n",
       "      <td>0.296308</td>\n",
       "      <td>0.002681</td>\n",
       "      <td>33</td>\n",
       "    </tr>\n",
       "    <tr>\n",
       "      <th>4</th>\n",
       "      <td>11630</td>\n",
       "      <td>0.405123</td>\n",
       "      <td>0.006677</td>\n",
       "      <td>70</td>\n",
       "    </tr>\n",
       "    <tr>\n",
       "      <th>7</th>\n",
       "      <td>16320</td>\n",
       "      <td>0.272775</td>\n",
       "      <td>0.001711</td>\n",
       "      <td>62</td>\n",
       "    </tr>\n",
       "    <tr>\n",
       "      <th>5</th>\n",
       "      <td>14397</td>\n",
       "      <td>0.449654</td>\n",
       "      <td>0.061248</td>\n",
       "      <td>1</td>\n",
       "    </tr>\n",
       "    <tr>\n",
       "      <th>8</th>\n",
       "      <td>24466</td>\n",
       "      <td>0.238814</td>\n",
       "      <td>0.009559</td>\n",
       "      <td>29</td>\n",
       "    </tr>\n",
       "  </tbody>\n",
       "</table>\n",
       "</div>"
      ],
      "text/plain": [
       "   tracking.object_id  average_responsibility  average_dxt  group_size\n",
       "6               14407                0.296308     0.002681          33\n",
       "4               11630                0.405123     0.006677          70\n",
       "7               16320                0.272775     0.001711          62\n",
       "5               14397                0.449654     0.061248           1\n",
       "8               24466                0.238814     0.009559          29"
      ]
     },
     "execution_count": 12,
     "metadata": {},
     "output_type": "execute_result"
    }
   ],
   "source": [
    "defender_stats = passes_df.groupby('tracking.object_id').agg(\n",
    "    average_responsibility=('responsibility', 'mean'),\n",
    "    average_dxt=('dxt', 'mean'),\n",
    "    group_size=('responsibility', 'size')\n",
    ").reset_index()\n",
    "\n",
    "defender_stats.sample(5)"
   ]
  },
  {
   "cell_type": "markdown",
   "metadata": {},
   "source": [
    "## Defender Dyads"
   ]
  },
  {
   "cell_type": "code",
   "execution_count": 13,
   "metadata": {
    "vscode": {
     "languageId": "ruby"
    }
   },
   "outputs": [],
   "source": [
    "groupby_cols = ['timestamp', 'period']\n",
    "pass_filt_df = passes_df.groupby(groupby_cols).filter(lambda x: len(x) >= 2)\n",
    "#pass_filt_df = pass_filt_df.groupby(groupby_cols)"
   ]
  },
  {
   "cell_type": "code",
   "execution_count": 14,
   "metadata": {
    "vscode": {
     "languageId": "ruby"
    }
   },
   "outputs": [],
   "source": [
    "relevant_cols = ['timestamp', 'period', 'tracking.object_id_x', 'tracking.object_id_y', 'responsibility_x', 'responsibility_y']\n",
    "joint_df = pass_filt_df.merge(pass_filt_df, on=groupby_cols)[relevant_cols]\n",
    "joint_df = joint_df[joint_df['tracking.object_id_x'] < joint_df['tracking.object_id_y']]\n",
    "joint_df['joint_resp'] = joint_df['responsibility_x'] + joint_df['responsibility_y']"
   ]
  },
  {
   "cell_type": "code",
   "execution_count": 15,
   "metadata": {
    "vscode": {
     "languageId": "ruby"
    }
   },
   "outputs": [],
   "source": [
    "columns_joint_group = ['timestamp', 'period', 'tracking.player.id.skillcorner_x', 'tracking.player.id.skillcorner_y', 'joint_resp']\n",
    "\n",
    "defender_dyads_network = joint_df.groupby(['tracking.object_id_x', 'tracking.object_id_y']).agg(\n",
    "    joint_responsibility_mean=('joint_resp', 'mean'),\n",
    "    joint_responsibility_sum=('joint_resp', 'sum'),\n",
    "    group_size=('joint_resp', 'size')\n",
    "    ).reset_index()"
   ]
  },
  {
   "cell_type": "code",
   "execution_count": 16,
   "metadata": {
    "vscode": {
     "languageId": "ruby"
    }
   },
   "outputs": [
    {
     "data": {
      "text/html": [
       "<div>\n",
       "<style scoped>\n",
       "    .dataframe tbody tr th:only-of-type {\n",
       "        vertical-align: middle;\n",
       "    }\n",
       "\n",
       "    .dataframe tbody tr th {\n",
       "        vertical-align: top;\n",
       "    }\n",
       "\n",
       "    .dataframe thead th {\n",
       "        text-align: right;\n",
       "    }\n",
       "</style>\n",
       "<table border=\"1\" class=\"dataframe\">\n",
       "  <thead>\n",
       "    <tr style=\"text-align: right;\">\n",
       "      <th></th>\n",
       "      <th>tracking.object_id_x</th>\n",
       "      <th>tracking.object_id_y</th>\n",
       "      <th>joint_responsibility_mean</th>\n",
       "      <th>joint_responsibility_sum</th>\n",
       "      <th>group_size</th>\n",
       "    </tr>\n",
       "  </thead>\n",
       "  <tbody>\n",
       "    <tr>\n",
       "      <th>10</th>\n",
       "      <td>11630</td>\n",
       "      <td>16320</td>\n",
       "      <td>0.738829</td>\n",
       "      <td>30.292009</td>\n",
       "      <td>41</td>\n",
       "    </tr>\n",
       "    <tr>\n",
       "      <th>5</th>\n",
       "      <td>11516</td>\n",
       "      <td>11606</td>\n",
       "      <td>0.792386</td>\n",
       "      <td>22.186806</td>\n",
       "      <td>28</td>\n",
       "    </tr>\n",
       "    <tr>\n",
       "      <th>2</th>\n",
       "      <td>7863</td>\n",
       "      <td>24466</td>\n",
       "      <td>0.574925</td>\n",
       "      <td>3.449551</td>\n",
       "      <td>6</td>\n",
       "    </tr>\n",
       "    <tr>\n",
       "      <th>12</th>\n",
       "      <td>14407</td>\n",
       "      <td>24466</td>\n",
       "      <td>0.511314</td>\n",
       "      <td>4.601827</td>\n",
       "      <td>9</td>\n",
       "    </tr>\n",
       "    <tr>\n",
       "      <th>9</th>\n",
       "      <td>11606</td>\n",
       "      <td>16320</td>\n",
       "      <td>0.658418</td>\n",
       "      <td>7.242601</td>\n",
       "      <td>11</td>\n",
       "    </tr>\n",
       "  </tbody>\n",
       "</table>\n",
       "</div>"
      ],
      "text/plain": [
       "    tracking.object_id_x  tracking.object_id_y  joint_responsibility_mean  \\\n",
       "10                 11630                 16320                   0.738829   \n",
       "5                  11516                 11606                   0.792386   \n",
       "2                   7863                 24466                   0.574925   \n",
       "12                 14407                 24466                   0.511314   \n",
       "9                  11606                 16320                   0.658418   \n",
       "\n",
       "    joint_responsibility_sum  group_size  \n",
       "10                 30.292009          41  \n",
       "5                  22.186806          28  \n",
       "2                   3.449551           6  \n",
       "12                  4.601827           9  \n",
       "9                   7.242601          11  "
      ]
     },
     "execution_count": 16,
     "metadata": {},
     "output_type": "execute_result"
    }
   ],
   "source": [
    "defender_dyads_network.sample(5)"
   ]
  }
 ],
 "metadata": {
  "kernelspec": {
   "display_name": "fball-analytics",
   "language": "python",
   "name": "python3"
  },
  "language_info": {
   "codemirror_mode": {
    "name": "ipython",
    "version": 3
   },
   "file_extension": ".py",
   "mimetype": "text/x-python",
   "name": "python",
   "nbconvert_exporter": "python",
   "pygments_lexer": "ipython3",
   "version": "3.10.15"
  }
 },
 "nbformat": 4,
 "nbformat_minor": 2
}
