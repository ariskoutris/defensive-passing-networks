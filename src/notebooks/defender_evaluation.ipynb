{
 "cells": [
  {
   "cell_type": "code",
   "execution_count": 1,
   "metadata": {},
   "outputs": [],
   "source": [
    "import sys\n",
    "sys.path.append('../')\n",
    "\n",
    "import optim_utils\n",
    "\n",
    "import pandas as pd\n",
    "from tqdm.notebook import tqdm"
   ]
  },
  {
   "cell_type": "code",
   "execution_count": 2,
   "metadata": {},
   "outputs": [],
   "source": [
    "WYSCOUT_ID = 5414111\n",
    "SKILLCORNER_ID = 952209\n",
    "\n",
    "NETWORKS_PATH = f'../../data/networks/match_{SKILLCORNER_ID}/'\n",
    "PASSES_DF_PATH = NETWORKS_PATH + 'passes_df.csv'\n",
    "\n",
    "DATA_PATH= f'../../data/'\n",
    "XT_PLOT_PATH = DATA_PATH + 'smoothed_xt.csv'\n",
    "METADATA_PATH = DATA_PATH + f'skillcorner/{SKILLCORNER_ID}_metadata.csv'"
   ]
  },
  {
   "cell_type": "code",
   "execution_count": 3,
   "metadata": {},
   "outputs": [],
   "source": [
    "passes_df = pd.read_csv(PASSES_DF_PATH)"
   ]
  },
  {
   "cell_type": "code",
   "execution_count": 4,
   "metadata": {},
   "outputs": [],
   "source": [
    "xt_table = pd.read_csv(XT_PLOT_PATH)\n",
    "pitch_length, pitch_width = pd.read_csv(METADATA_PATH)[['pitch_length', 'pitch_width']].values[0]\n",
    "threat_map = optim_utils.ThreatMap(xt_table, pitch_length, pitch_width)"
   ]
  },
  {
   "cell_type": "code",
   "execution_count": 5,
   "metadata": {},
   "outputs": [],
   "source": [
    "negative_frames = optim_utils.all_negative_dxt_frames(passes_df, threat_map)\n",
    "passes_df = passes_df[~passes_df['frame'].isin(negative_frames)]"
   ]
  },
  {
   "cell_type": "markdown",
   "metadata": {},
   "source": [
    "# Defender Evaluation"
   ]
  },
  {
   "cell_type": "code",
   "execution_count": 6,
   "metadata": {},
   "outputs": [
    {
     "name": "stderr",
     "output_type": "stream",
     "text": [
      "                                                 \r"
     ]
    }
   ],
   "source": [
    "pass_results, agg_results = optim_utils.optimize_defender(passes_df, 10082, threat_map, pitch_length, pitch_width, radius=3, grid_res=5, mode='softmax')"
   ]
  },
  {
   "cell_type": "code",
   "execution_count": 7,
   "metadata": {},
   "outputs": [
    {
     "data": {
      "text/html": [
       "<div>\n",
       "<style scoped>\n",
       "    .dataframe tbody tr th:only-of-type {\n",
       "        vertical-align: middle;\n",
       "    }\n",
       "\n",
       "    .dataframe tbody tr th {\n",
       "        vertical-align: top;\n",
       "    }\n",
       "\n",
       "    .dataframe thead th {\n",
       "        text-align: right;\n",
       "    }\n",
       "</style>\n",
       "<table border=\"1\" class=\"dataframe\">\n",
       "  <thead>\n",
       "    <tr style=\"text-align: right;\">\n",
       "      <th></th>\n",
       "      <th>improvement</th>\n",
       "      <th>improvement_perc</th>\n",
       "      <th>distance</th>\n",
       "    </tr>\n",
       "  </thead>\n",
       "  <tbody>\n",
       "    <tr>\n",
       "      <th>mean</th>\n",
       "      <td>0.000037</td>\n",
       "      <td>23.09372</td>\n",
       "      <td>1.082740</td>\n",
       "    </tr>\n",
       "    <tr>\n",
       "      <th>median</th>\n",
       "      <td>0.000000</td>\n",
       "      <td>0.00000</td>\n",
       "      <td>0.000000</td>\n",
       "    </tr>\n",
       "    <tr>\n",
       "      <th>std</th>\n",
       "      <td>0.000138</td>\n",
       "      <td>163.61304</td>\n",
       "      <td>1.362914</td>\n",
       "    </tr>\n",
       "  </tbody>\n",
       "</table>\n",
       "</div>"
      ],
      "text/plain": [
       "        improvement  improvement_perc  distance\n",
       "mean       0.000037          23.09372  1.082740\n",
       "median     0.000000           0.00000  0.000000\n",
       "std        0.000138         163.61304  1.362914"
      ]
     },
     "execution_count": 7,
     "metadata": {},
     "output_type": "execute_result"
    }
   ],
   "source": [
    "agg_results"
   ]
  },
  {
   "cell_type": "markdown",
   "metadata": {},
   "source": [
    "# Apply to all defenders"
   ]
  },
  {
   "cell_type": "code",
   "execution_count": 10,
   "metadata": {},
   "outputs": [],
   "source": [
    "player_ids = passes_df[~passes_df['tracking.is_ball']]['tracking.object_id'].unique()"
   ]
  },
  {
   "cell_type": "code",
   "execution_count": 11,
   "metadata": {},
   "outputs": [
    {
     "data": {
      "application/vnd.jupyter.widget-view+json": {
       "model_id": "e9ee9b81aa924e0e99266995747c1caf",
       "version_major": 2,
       "version_minor": 0
      },
      "text/plain": [
       "  0%|          | 0/32 [00:00<?, ?it/s]"
      ]
     },
     "metadata": {},
     "output_type": "display_data"
    },
    {
     "name": "stderr",
     "output_type": "stream",
     "text": []
    }
   ],
   "source": [
    "def_passes = {}\n",
    "def_stats = {}\n",
    "def_counts = {}\n",
    "for player_id in tqdm(player_ids):\n",
    "    def_passes[player_id], def_stats[player_id] = optim_utils.optimize_defender(passes_df, player_id, threat_map, pitch_length, pitch_width, radius=3, grid_res=5, mode='softmax')\n",
    "    def_counts[player_id] = len(def_passes[player_id])"
   ]
  },
  {
   "cell_type": "code",
   "execution_count": 15,
   "metadata": {},
   "outputs": [],
   "source": [
    "results = pd.concat(def_stats).reset_index().rename(columns={'level_0': 'player_id', 'level_1': 'metric'})\n",
    "means = results[results['metric'] == 'mean'].drop(columns='metric')\n",
    "medians = results[results['metric'] == 'median'].drop(columns='metric')\n",
    "stds = results[results['metric'] == 'std'].drop(columns='metric')\n",
    "means['count'] = means['player_id'].map(def_counts)\n",
    "medians['count'] = medians['player_id'].map(def_counts)\n",
    "stds['count'] = stds['player_id'].map(def_counts)"
   ]
  },
  {
   "cell_type": "code",
   "execution_count": 16,
   "metadata": {},
   "outputs": [],
   "source": [
    "means_filt = means[means['count'] >= 100]\n",
    "medians_filt = medians[medians['count'] >= 100]"
   ]
  },
  {
   "cell_type": "code",
   "execution_count": 17,
   "metadata": {},
   "outputs": [
    {
     "data": {
      "text/html": [
       "<div>\n",
       "<style scoped>\n",
       "    .dataframe tbody tr th:only-of-type {\n",
       "        vertical-align: middle;\n",
       "    }\n",
       "\n",
       "    .dataframe tbody tr th {\n",
       "        vertical-align: top;\n",
       "    }\n",
       "\n",
       "    .dataframe thead th {\n",
       "        text-align: right;\n",
       "    }\n",
       "</style>\n",
       "<table border=\"1\" class=\"dataframe\">\n",
       "  <thead>\n",
       "    <tr style=\"text-align: right;\">\n",
       "      <th></th>\n",
       "      <th>player_id</th>\n",
       "      <th>improvement</th>\n",
       "      <th>improvement_perc</th>\n",
       "      <th>distance</th>\n",
       "      <th>count</th>\n",
       "    </tr>\n",
       "  </thead>\n",
       "  <tbody>\n",
       "    <tr>\n",
       "      <th>81</th>\n",
       "      <td>22103</td>\n",
       "      <td>0.000120</td>\n",
       "      <td>25.077988</td>\n",
       "      <td>2.169117</td>\n",
       "      <td>106</td>\n",
       "    </tr>\n",
       "    <tr>\n",
       "      <th>12</th>\n",
       "      <td>11606</td>\n",
       "      <td>0.000090</td>\n",
       "      <td>31.271873</td>\n",
       "      <td>1.905872</td>\n",
       "      <td>719</td>\n",
       "    </tr>\n",
       "    <tr>\n",
       "      <th>78</th>\n",
       "      <td>12246</td>\n",
       "      <td>0.000087</td>\n",
       "      <td>32.545447</td>\n",
       "      <td>1.926520</td>\n",
       "      <td>147</td>\n",
       "    </tr>\n",
       "    <tr>\n",
       "      <th>18</th>\n",
       "      <td>277</td>\n",
       "      <td>0.000069</td>\n",
       "      <td>41.518806</td>\n",
       "      <td>1.556738</td>\n",
       "      <td>686</td>\n",
       "    </tr>\n",
       "    <tr>\n",
       "      <th>30</th>\n",
       "      <td>12190</td>\n",
       "      <td>0.000065</td>\n",
       "      <td>29.170689</td>\n",
       "      <td>1.078109</td>\n",
       "      <td>570</td>\n",
       "    </tr>\n",
       "    <tr>\n",
       "      <th>15</th>\n",
       "      <td>12218</td>\n",
       "      <td>0.000060</td>\n",
       "      <td>36.160661</td>\n",
       "      <td>1.771871</td>\n",
       "      <td>590</td>\n",
       "    </tr>\n",
       "    <tr>\n",
       "      <th>21</th>\n",
       "      <td>946</td>\n",
       "      <td>0.000057</td>\n",
       "      <td>30.216885</td>\n",
       "      <td>1.405379</td>\n",
       "      <td>611</td>\n",
       "    </tr>\n",
       "    <tr>\n",
       "      <th>84</th>\n",
       "      <td>12229</td>\n",
       "      <td>0.000057</td>\n",
       "      <td>16.129225</td>\n",
       "      <td>1.994677</td>\n",
       "      <td>105</td>\n",
       "    </tr>\n",
       "    <tr>\n",
       "      <th>27</th>\n",
       "      <td>6028</td>\n",
       "      <td>0.000056</td>\n",
       "      <td>35.031949</td>\n",
       "      <td>1.133961</td>\n",
       "      <td>615</td>\n",
       "    </tr>\n",
       "    <tr>\n",
       "      <th>6</th>\n",
       "      <td>11516</td>\n",
       "      <td>0.000049</td>\n",
       "      <td>27.381377</td>\n",
       "      <td>2.302324</td>\n",
       "      <td>603</td>\n",
       "    </tr>\n",
       "  </tbody>\n",
       "</table>\n",
       "</div>"
      ],
      "text/plain": [
       "    player_id  improvement  improvement_perc  distance  count\n",
       "81      22103     0.000120         25.077988  2.169117    106\n",
       "12      11606     0.000090         31.271873  1.905872    719\n",
       "78      12246     0.000087         32.545447  1.926520    147\n",
       "18        277     0.000069         41.518806  1.556738    686\n",
       "30      12190     0.000065         29.170689  1.078109    570\n",
       "15      12218     0.000060         36.160661  1.771871    590\n",
       "21        946     0.000057         30.216885  1.405379    611\n",
       "84      12229     0.000057         16.129225  1.994677    105\n",
       "27       6028     0.000056         35.031949  1.133961    615\n",
       "6       11516     0.000049         27.381377  2.302324    603"
      ]
     },
     "execution_count": 17,
     "metadata": {},
     "output_type": "execute_result"
    }
   ],
   "source": [
    "means_filt.sort_values('improvement', ascending=False).head(10)"
   ]
  },
  {
   "cell_type": "code",
   "execution_count": 18,
   "metadata": {},
   "outputs": [
    {
     "data": {
      "text/plain": [
       "<Axes: >"
      ]
     },
     "execution_count": 18,
     "metadata": {},
     "output_type": "execute_result"
    },
    {
     "data": {
      "image/png": "[encoded data removed]",
      "text/plain": [
       "<Figure size 640x480 with 1 Axes>"
      ]
     },
     "metadata": {},
     "output_type": "display_data"
    }
   ],
   "source": [
    "means_filt['improvement'].hist(bins=20)"
   ]
  },
  {
   "cell_type": "code",
   "execution_count": null,
   "metadata": {},
   "outputs": [],
   "source": []
  }
 ],
 "metadata": {
  "kernelspec": {
   "display_name": "fball-analytics",
   "language": "python",
   "name": "python3"
  },
  "language_info": {
   "codemirror_mode": {
    "name": "ipython",
    "version": 3
   },
   "file_extension": ".py",
   "mimetype": "text/x-python",
   "name": "python",
   "nbconvert_exporter": "python",
   "pygments_lexer": "ipython3",
   "version": "3.10.15"
  }
 },
 "nbformat": 4,
 "nbformat_minor": 2
}
